{
 "cells": [
  {
   "cell_type": "code",
   "execution_count": 1,
   "metadata": {},
   "outputs": [
    {
     "data": {
      "text/html": [
       "        <script type=\"text/javascript\">\n",
       "        window.PlotlyConfig = {MathJaxConfig: 'local'};\n",
       "        if (window.MathJax && window.MathJax.Hub && window.MathJax.Hub.Config) {window.MathJax.Hub.Config({SVG: {font: \"STIX-Web\"}});}\n",
       "        if (typeof require !== 'undefined') {\n",
       "        require.undef(\"plotly\");\n",
       "        requirejs.config({\n",
       "            paths: {\n",
       "                'plotly': ['https://cdn.plot.ly/plotly-2.18.2.min']\n",
       "            }\n",
       "        });\n",
       "        require(['plotly'], function(Plotly) {\n",
       "            window._Plotly = Plotly;\n",
       "        });\n",
       "        }\n",
       "        </script>\n",
       "        "
      ]
     },
     "metadata": {},
     "output_type": "display_data"
    }
   ],
   "source": [
    "from pyforest import *\n",
    "import cufflinks as cf\n",
    "import pickle\n",
    "from catboost import CatBoostRegressor\n"
   ]
  },
  {
   "cell_type": "code",
   "execution_count": 2,
   "metadata": {},
   "outputs": [
    {
     "data": {
      "application/javascript": "\n        if (window._pyforest_update_imports_cell) { window._pyforest_update_imports_cell('import pandas as pd'); }\n    ",
      "text/plain": [
       "<IPython.core.display.Javascript object>"
      ]
     },
     "metadata": {},
     "output_type": "display_data"
    },
    {
     "data": {
      "text/html": [
       "<div>\n",
       "<style scoped>\n",
       "    .dataframe tbody tr th:only-of-type {\n",
       "        vertical-align: middle;\n",
       "    }\n",
       "\n",
       "    .dataframe tbody tr th {\n",
       "        vertical-align: top;\n",
       "    }\n",
       "\n",
       "    .dataframe thead th {\n",
       "        text-align: right;\n",
       "    }\n",
       "</style>\n",
       "<table border=\"1\" class=\"dataframe\">\n",
       "  <thead>\n",
       "    <tr style=\"text-align: right;\">\n",
       "      <th></th>\n",
       "      <th>Airline</th>\n",
       "      <th>Date_of_Journey</th>\n",
       "      <th>Source</th>\n",
       "      <th>Destination</th>\n",
       "      <th>Route</th>\n",
       "      <th>Dep_Time</th>\n",
       "      <th>Arrival_Time</th>\n",
       "      <th>Duration</th>\n",
       "      <th>Total_Stops</th>\n",
       "      <th>Additional_Info</th>\n",
       "      <th>Price</th>\n",
       "    </tr>\n",
       "  </thead>\n",
       "  <tbody>\n",
       "    <tr>\n",
       "      <th>0</th>\n",
       "      <td>IndiGo</td>\n",
       "      <td>24/03/2019</td>\n",
       "      <td>Banglore</td>\n",
       "      <td>New Delhi</td>\n",
       "      <td>BLR → DEL</td>\n",
       "      <td>22:20</td>\n",
       "      <td>01:10 22 Mar</td>\n",
       "      <td>2h 50m</td>\n",
       "      <td>non-stop</td>\n",
       "      <td>No info</td>\n",
       "      <td>3897</td>\n",
       "    </tr>\n",
       "    <tr>\n",
       "      <th>1</th>\n",
       "      <td>Air India</td>\n",
       "      <td>1/05/2019</td>\n",
       "      <td>Kolkata</td>\n",
       "      <td>Banglore</td>\n",
       "      <td>CCU → IXR → BBI → BLR</td>\n",
       "      <td>05:50</td>\n",
       "      <td>13:15</td>\n",
       "      <td>7h 25m</td>\n",
       "      <td>2 stops</td>\n",
       "      <td>No info</td>\n",
       "      <td>7662</td>\n",
       "    </tr>\n",
       "    <tr>\n",
       "      <th>2</th>\n",
       "      <td>Jet Airways</td>\n",
       "      <td>9/06/2019</td>\n",
       "      <td>Delhi</td>\n",
       "      <td>Cochin</td>\n",
       "      <td>DEL → LKO → BOM → COK</td>\n",
       "      <td>09:25</td>\n",
       "      <td>04:25 10 Jun</td>\n",
       "      <td>19h</td>\n",
       "      <td>2 stops</td>\n",
       "      <td>No info</td>\n",
       "      <td>13882</td>\n",
       "    </tr>\n",
       "    <tr>\n",
       "      <th>3</th>\n",
       "      <td>IndiGo</td>\n",
       "      <td>12/05/2019</td>\n",
       "      <td>Kolkata</td>\n",
       "      <td>Banglore</td>\n",
       "      <td>CCU → NAG → BLR</td>\n",
       "      <td>18:05</td>\n",
       "      <td>23:30</td>\n",
       "      <td>5h 25m</td>\n",
       "      <td>1 stop</td>\n",
       "      <td>No info</td>\n",
       "      <td>6218</td>\n",
       "    </tr>\n",
       "    <tr>\n",
       "      <th>4</th>\n",
       "      <td>IndiGo</td>\n",
       "      <td>01/03/2019</td>\n",
       "      <td>Banglore</td>\n",
       "      <td>New Delhi</td>\n",
       "      <td>BLR → NAG → DEL</td>\n",
       "      <td>16:50</td>\n",
       "      <td>21:35</td>\n",
       "      <td>4h 45m</td>\n",
       "      <td>1 stop</td>\n",
       "      <td>No info</td>\n",
       "      <td>13302</td>\n",
       "    </tr>\n",
       "  </tbody>\n",
       "</table>\n",
       "</div>"
      ],
      "text/plain": [
       "       Airline Date_of_Journey    Source Destination                  Route  \\\n",
       "0       IndiGo      24/03/2019  Banglore   New Delhi              BLR → DEL   \n",
       "1    Air India       1/05/2019   Kolkata    Banglore  CCU → IXR → BBI → BLR   \n",
       "2  Jet Airways       9/06/2019     Delhi      Cochin  DEL → LKO → BOM → COK   \n",
       "3       IndiGo      12/05/2019   Kolkata    Banglore        CCU → NAG → BLR   \n",
       "4       IndiGo      01/03/2019  Banglore   New Delhi        BLR → NAG → DEL   \n",
       "\n",
       "  Dep_Time  Arrival_Time Duration Total_Stops Additional_Info  Price  \n",
       "0    22:20  01:10 22 Mar   2h 50m    non-stop         No info   3897  \n",
       "1    05:50         13:15   7h 25m     2 stops         No info   7662  \n",
       "2    09:25  04:25 10 Jun      19h     2 stops         No info  13882  \n",
       "3    18:05         23:30   5h 25m      1 stop         No info   6218  \n",
       "4    16:50         21:35   4h 45m      1 stop         No info  13302  "
      ]
     },
     "execution_count": 2,
     "metadata": {},
     "output_type": "execute_result"
    }
   ],
   "source": [
    "df = pd.read_excel('Data_Train.xlsx')\n",
    "df.head(5)"
   ]
  },
  {
   "attachments": {},
   "cell_type": "markdown",
   "metadata": {},
   "source": [
    "# Data cleaning "
   ]
  },
  {
   "cell_type": "code",
   "execution_count": 3,
   "metadata": {},
   "outputs": [
    {
     "data": {
      "text/plain": [
       "Airline            0\n",
       "Date_of_Journey    0\n",
       "Source             0\n",
       "Destination        0\n",
       "Route              1\n",
       "Dep_Time           0\n",
       "Arrival_Time       0\n",
       "Duration           0\n",
       "Total_Stops        1\n",
       "Additional_Info    0\n",
       "Price              0\n",
       "dtype: int64"
      ]
     },
     "execution_count": 3,
     "metadata": {},
     "output_type": "execute_result"
    }
   ],
   "source": [
    "df.isna().sum()"
   ]
  },
  {
   "cell_type": "code",
   "execution_count": 4,
   "metadata": {},
   "outputs": [],
   "source": [
    "df.dropna(how ='any',inplace=True)"
   ]
  },
  {
   "cell_type": "code",
   "execution_count": 5,
   "metadata": {},
   "outputs": [
    {
     "data": {
      "text/plain": [
       "Airline            0\n",
       "Date_of_Journey    0\n",
       "Source             0\n",
       "Destination        0\n",
       "Route              0\n",
       "Dep_Time           0\n",
       "Arrival_Time       0\n",
       "Duration           0\n",
       "Total_Stops        0\n",
       "Additional_Info    0\n",
       "Price              0\n",
       "dtype: int64"
      ]
     },
     "execution_count": 5,
     "metadata": {},
     "output_type": "execute_result"
    }
   ],
   "source": [
    "df.isnull().sum()"
   ]
  },
  {
   "cell_type": "code",
   "execution_count": 6,
   "metadata": {},
   "outputs": [
    {
     "data": {
      "application/javascript": "\n        if (window._pyforest_update_imports_cell) { window._pyforest_update_imports_cell('import pandas as pd'); }\n    ",
      "text/plain": [
       "<IPython.core.display.Javascript object>"
      ]
     },
     "metadata": {},
     "output_type": "display_data"
    }
   ],
   "source": [
    "#converting date of journey columns to day and month columns\n",
    "date_format = '%d/%m/%Y'\n",
    "df['Date_of_Journey'] = pd.to_datetime(df['Date_of_Journey'], format=date_format)\n",
    "df['day_of_journey'] = (df['Date_of_Journey']).dt.day\n",
    "df['month_of_journey'] = (df['Date_of_Journey']).dt.month"
   ]
  },
  {
   "cell_type": "code",
   "execution_count": 7,
   "metadata": {},
   "outputs": [
    {
     "data": {
      "text/html": [
       "<div>\n",
       "<style scoped>\n",
       "    .dataframe tbody tr th:only-of-type {\n",
       "        vertical-align: middle;\n",
       "    }\n",
       "\n",
       "    .dataframe tbody tr th {\n",
       "        vertical-align: top;\n",
       "    }\n",
       "\n",
       "    .dataframe thead th {\n",
       "        text-align: right;\n",
       "    }\n",
       "</style>\n",
       "<table border=\"1\" class=\"dataframe\">\n",
       "  <thead>\n",
       "    <tr style=\"text-align: right;\">\n",
       "      <th></th>\n",
       "      <th>Airline</th>\n",
       "      <th>Date_of_Journey</th>\n",
       "      <th>Source</th>\n",
       "      <th>Destination</th>\n",
       "      <th>Route</th>\n",
       "      <th>Dep_Time</th>\n",
       "      <th>Arrival_Time</th>\n",
       "      <th>Duration</th>\n",
       "      <th>Total_Stops</th>\n",
       "      <th>Additional_Info</th>\n",
       "      <th>Price</th>\n",
       "      <th>day_of_journey</th>\n",
       "      <th>month_of_journey</th>\n",
       "    </tr>\n",
       "  </thead>\n",
       "  <tbody>\n",
       "    <tr>\n",
       "      <th>0</th>\n",
       "      <td>IndiGo</td>\n",
       "      <td>2019-03-24</td>\n",
       "      <td>Banglore</td>\n",
       "      <td>New Delhi</td>\n",
       "      <td>BLR → DEL</td>\n",
       "      <td>22:20</td>\n",
       "      <td>01:10 22 Mar</td>\n",
       "      <td>2h 50m</td>\n",
       "      <td>non-stop</td>\n",
       "      <td>No info</td>\n",
       "      <td>3897</td>\n",
       "      <td>24</td>\n",
       "      <td>3</td>\n",
       "    </tr>\n",
       "    <tr>\n",
       "      <th>1</th>\n",
       "      <td>Air India</td>\n",
       "      <td>2019-05-01</td>\n",
       "      <td>Kolkata</td>\n",
       "      <td>Banglore</td>\n",
       "      <td>CCU → IXR → BBI → BLR</td>\n",
       "      <td>05:50</td>\n",
       "      <td>13:15</td>\n",
       "      <td>7h 25m</td>\n",
       "      <td>2 stops</td>\n",
       "      <td>No info</td>\n",
       "      <td>7662</td>\n",
       "      <td>1</td>\n",
       "      <td>5</td>\n",
       "    </tr>\n",
       "  </tbody>\n",
       "</table>\n",
       "</div>"
      ],
      "text/plain": [
       "     Airline Date_of_Journey    Source Destination                  Route  \\\n",
       "0     IndiGo      2019-03-24  Banglore   New Delhi              BLR → DEL   \n",
       "1  Air India      2019-05-01   Kolkata    Banglore  CCU → IXR → BBI → BLR   \n",
       "\n",
       "  Dep_Time  Arrival_Time Duration Total_Stops Additional_Info  Price  \\\n",
       "0    22:20  01:10 22 Mar   2h 50m    non-stop         No info   3897   \n",
       "1    05:50         13:15   7h 25m     2 stops         No info   7662   \n",
       "\n",
       "   day_of_journey  month_of_journey  \n",
       "0              24                 3  \n",
       "1               1                 5  "
      ]
     },
     "execution_count": 7,
     "metadata": {},
     "output_type": "execute_result"
    }
   ],
   "source": [
    "df.head(2)"
   ]
  },
  {
   "cell_type": "code",
   "execution_count": 8,
   "metadata": {},
   "outputs": [],
   "source": [
    "df.drop(['Date_of_Journey'],axis=1,inplace=True)"
   ]
  },
  {
   "cell_type": "code",
   "execution_count": 9,
   "metadata": {},
   "outputs": [
    {
     "data": {
      "text/html": [
       "<div>\n",
       "<style scoped>\n",
       "    .dataframe tbody tr th:only-of-type {\n",
       "        vertical-align: middle;\n",
       "    }\n",
       "\n",
       "    .dataframe tbody tr th {\n",
       "        vertical-align: top;\n",
       "    }\n",
       "\n",
       "    .dataframe thead th {\n",
       "        text-align: right;\n",
       "    }\n",
       "</style>\n",
       "<table border=\"1\" class=\"dataframe\">\n",
       "  <thead>\n",
       "    <tr style=\"text-align: right;\">\n",
       "      <th></th>\n",
       "      <th>Airline</th>\n",
       "      <th>Source</th>\n",
       "      <th>Destination</th>\n",
       "      <th>Route</th>\n",
       "      <th>Dep_Time</th>\n",
       "      <th>Arrival_Time</th>\n",
       "      <th>Duration</th>\n",
       "      <th>Total_Stops</th>\n",
       "      <th>Additional_Info</th>\n",
       "      <th>Price</th>\n",
       "      <th>day_of_journey</th>\n",
       "      <th>month_of_journey</th>\n",
       "    </tr>\n",
       "  </thead>\n",
       "  <tbody>\n",
       "    <tr>\n",
       "      <th>0</th>\n",
       "      <td>IndiGo</td>\n",
       "      <td>Banglore</td>\n",
       "      <td>New Delhi</td>\n",
       "      <td>BLR → DEL</td>\n",
       "      <td>22:20</td>\n",
       "      <td>01:10 22 Mar</td>\n",
       "      <td>2h 50m</td>\n",
       "      <td>non-stop</td>\n",
       "      <td>No info</td>\n",
       "      <td>3897</td>\n",
       "      <td>24</td>\n",
       "      <td>3</td>\n",
       "    </tr>\n",
       "    <tr>\n",
       "      <th>1</th>\n",
       "      <td>Air India</td>\n",
       "      <td>Kolkata</td>\n",
       "      <td>Banglore</td>\n",
       "      <td>CCU → IXR → BBI → BLR</td>\n",
       "      <td>05:50</td>\n",
       "      <td>13:15</td>\n",
       "      <td>7h 25m</td>\n",
       "      <td>2 stops</td>\n",
       "      <td>No info</td>\n",
       "      <td>7662</td>\n",
       "      <td>1</td>\n",
       "      <td>5</td>\n",
       "    </tr>\n",
       "    <tr>\n",
       "      <th>2</th>\n",
       "      <td>Jet Airways</td>\n",
       "      <td>Delhi</td>\n",
       "      <td>Cochin</td>\n",
       "      <td>DEL → LKO → BOM → COK</td>\n",
       "      <td>09:25</td>\n",
       "      <td>04:25 10 Jun</td>\n",
       "      <td>19h</td>\n",
       "      <td>2 stops</td>\n",
       "      <td>No info</td>\n",
       "      <td>13882</td>\n",
       "      <td>9</td>\n",
       "      <td>6</td>\n",
       "    </tr>\n",
       "    <tr>\n",
       "      <th>3</th>\n",
       "      <td>IndiGo</td>\n",
       "      <td>Kolkata</td>\n",
       "      <td>Banglore</td>\n",
       "      <td>CCU → NAG → BLR</td>\n",
       "      <td>18:05</td>\n",
       "      <td>23:30</td>\n",
       "      <td>5h 25m</td>\n",
       "      <td>1 stop</td>\n",
       "      <td>No info</td>\n",
       "      <td>6218</td>\n",
       "      <td>12</td>\n",
       "      <td>5</td>\n",
       "    </tr>\n",
       "    <tr>\n",
       "      <th>4</th>\n",
       "      <td>IndiGo</td>\n",
       "      <td>Banglore</td>\n",
       "      <td>New Delhi</td>\n",
       "      <td>BLR → NAG → DEL</td>\n",
       "      <td>16:50</td>\n",
       "      <td>21:35</td>\n",
       "      <td>4h 45m</td>\n",
       "      <td>1 stop</td>\n",
       "      <td>No info</td>\n",
       "      <td>13302</td>\n",
       "      <td>1</td>\n",
       "      <td>3</td>\n",
       "    </tr>\n",
       "    <tr>\n",
       "      <th>5</th>\n",
       "      <td>SpiceJet</td>\n",
       "      <td>Kolkata</td>\n",
       "      <td>Banglore</td>\n",
       "      <td>CCU → BLR</td>\n",
       "      <td>09:00</td>\n",
       "      <td>11:25</td>\n",
       "      <td>2h 25m</td>\n",
       "      <td>non-stop</td>\n",
       "      <td>No info</td>\n",
       "      <td>3873</td>\n",
       "      <td>24</td>\n",
       "      <td>6</td>\n",
       "    </tr>\n",
       "  </tbody>\n",
       "</table>\n",
       "</div>"
      ],
      "text/plain": [
       "       Airline    Source Destination                  Route Dep_Time  \\\n",
       "0       IndiGo  Banglore   New Delhi              BLR → DEL    22:20   \n",
       "1    Air India   Kolkata    Banglore  CCU → IXR → BBI → BLR    05:50   \n",
       "2  Jet Airways     Delhi      Cochin  DEL → LKO → BOM → COK    09:25   \n",
       "3       IndiGo   Kolkata    Banglore        CCU → NAG → BLR    18:05   \n",
       "4       IndiGo  Banglore   New Delhi        BLR → NAG → DEL    16:50   \n",
       "5     SpiceJet   Kolkata    Banglore              CCU → BLR    09:00   \n",
       "\n",
       "   Arrival_Time Duration Total_Stops Additional_Info  Price  day_of_journey  \\\n",
       "0  01:10 22 Mar   2h 50m    non-stop         No info   3897              24   \n",
       "1         13:15   7h 25m     2 stops         No info   7662               1   \n",
       "2  04:25 10 Jun      19h     2 stops         No info  13882               9   \n",
       "3         23:30   5h 25m      1 stop         No info   6218              12   \n",
       "4         21:35   4h 45m      1 stop         No info  13302               1   \n",
       "5         11:25   2h 25m    non-stop         No info   3873              24   \n",
       "\n",
       "   month_of_journey  \n",
       "0                 3  \n",
       "1                 5  \n",
       "2                 6  \n",
       "3                 5  \n",
       "4                 3  \n",
       "5                 6  "
      ]
     },
     "execution_count": 9,
     "metadata": {},
     "output_type": "execute_result"
    }
   ],
   "source": [
    "df.head(6)"
   ]
  },
  {
   "cell_type": "code",
   "execution_count": 10,
   "metadata": {},
   "outputs": [
    {
     "data": {
      "application/javascript": "\n        if (window._pyforest_update_imports_cell) { window._pyforest_update_imports_cell('import pandas as pd'); }\n    ",
      "text/plain": [
       "<IPython.core.display.Javascript object>"
      ]
     },
     "metadata": {},
     "output_type": "display_data"
    },
    {
     "data": {
      "application/javascript": "\n        if (window._pyforest_update_imports_cell) { window._pyforest_update_imports_cell('import pandas as pd'); }\n    ",
      "text/plain": [
       "<IPython.core.display.Javascript object>"
      ]
     },
     "metadata": {},
     "output_type": "display_data"
    }
   ],
   "source": [
    "df['dep_hour']=pd.to_datetime(df['Dep_Time']).dt.hour\n",
    "df['dep_minute']=pd.to_datetime(df['Dep_Time']).dt.minute"
   ]
  },
  {
   "cell_type": "code",
   "execution_count": 11,
   "metadata": {},
   "outputs": [
    {
     "data": {
      "text/html": [
       "<div>\n",
       "<style scoped>\n",
       "    .dataframe tbody tr th:only-of-type {\n",
       "        vertical-align: middle;\n",
       "    }\n",
       "\n",
       "    .dataframe tbody tr th {\n",
       "        vertical-align: top;\n",
       "    }\n",
       "\n",
       "    .dataframe thead th {\n",
       "        text-align: right;\n",
       "    }\n",
       "</style>\n",
       "<table border=\"1\" class=\"dataframe\">\n",
       "  <thead>\n",
       "    <tr style=\"text-align: right;\">\n",
       "      <th></th>\n",
       "      <th>Airline</th>\n",
       "      <th>Source</th>\n",
       "      <th>Destination</th>\n",
       "      <th>Route</th>\n",
       "      <th>Dep_Time</th>\n",
       "      <th>Arrival_Time</th>\n",
       "      <th>Duration</th>\n",
       "      <th>Total_Stops</th>\n",
       "      <th>Additional_Info</th>\n",
       "      <th>Price</th>\n",
       "      <th>day_of_journey</th>\n",
       "      <th>month_of_journey</th>\n",
       "      <th>dep_hour</th>\n",
       "      <th>dep_minute</th>\n",
       "    </tr>\n",
       "  </thead>\n",
       "  <tbody>\n",
       "    <tr>\n",
       "      <th>0</th>\n",
       "      <td>IndiGo</td>\n",
       "      <td>Banglore</td>\n",
       "      <td>New Delhi</td>\n",
       "      <td>BLR → DEL</td>\n",
       "      <td>22:20</td>\n",
       "      <td>01:10 22 Mar</td>\n",
       "      <td>2h 50m</td>\n",
       "      <td>non-stop</td>\n",
       "      <td>No info</td>\n",
       "      <td>3897</td>\n",
       "      <td>24</td>\n",
       "      <td>3</td>\n",
       "      <td>22</td>\n",
       "      <td>20</td>\n",
       "    </tr>\n",
       "    <tr>\n",
       "      <th>1</th>\n",
       "      <td>Air India</td>\n",
       "      <td>Kolkata</td>\n",
       "      <td>Banglore</td>\n",
       "      <td>CCU → IXR → BBI → BLR</td>\n",
       "      <td>05:50</td>\n",
       "      <td>13:15</td>\n",
       "      <td>7h 25m</td>\n",
       "      <td>2 stops</td>\n",
       "      <td>No info</td>\n",
       "      <td>7662</td>\n",
       "      <td>1</td>\n",
       "      <td>5</td>\n",
       "      <td>5</td>\n",
       "      <td>50</td>\n",
       "    </tr>\n",
       "    <tr>\n",
       "      <th>2</th>\n",
       "      <td>Jet Airways</td>\n",
       "      <td>Delhi</td>\n",
       "      <td>Cochin</td>\n",
       "      <td>DEL → LKO → BOM → COK</td>\n",
       "      <td>09:25</td>\n",
       "      <td>04:25 10 Jun</td>\n",
       "      <td>19h</td>\n",
       "      <td>2 stops</td>\n",
       "      <td>No info</td>\n",
       "      <td>13882</td>\n",
       "      <td>9</td>\n",
       "      <td>6</td>\n",
       "      <td>9</td>\n",
       "      <td>25</td>\n",
       "    </tr>\n",
       "    <tr>\n",
       "      <th>3</th>\n",
       "      <td>IndiGo</td>\n",
       "      <td>Kolkata</td>\n",
       "      <td>Banglore</td>\n",
       "      <td>CCU → NAG → BLR</td>\n",
       "      <td>18:05</td>\n",
       "      <td>23:30</td>\n",
       "      <td>5h 25m</td>\n",
       "      <td>1 stop</td>\n",
       "      <td>No info</td>\n",
       "      <td>6218</td>\n",
       "      <td>12</td>\n",
       "      <td>5</td>\n",
       "      <td>18</td>\n",
       "      <td>5</td>\n",
       "    </tr>\n",
       "    <tr>\n",
       "      <th>4</th>\n",
       "      <td>IndiGo</td>\n",
       "      <td>Banglore</td>\n",
       "      <td>New Delhi</td>\n",
       "      <td>BLR → NAG → DEL</td>\n",
       "      <td>16:50</td>\n",
       "      <td>21:35</td>\n",
       "      <td>4h 45m</td>\n",
       "      <td>1 stop</td>\n",
       "      <td>No info</td>\n",
       "      <td>13302</td>\n",
       "      <td>1</td>\n",
       "      <td>3</td>\n",
       "      <td>16</td>\n",
       "      <td>50</td>\n",
       "    </tr>\n",
       "  </tbody>\n",
       "</table>\n",
       "</div>"
      ],
      "text/plain": [
       "       Airline    Source Destination                  Route Dep_Time  \\\n",
       "0       IndiGo  Banglore   New Delhi              BLR → DEL    22:20   \n",
       "1    Air India   Kolkata    Banglore  CCU → IXR → BBI → BLR    05:50   \n",
       "2  Jet Airways     Delhi      Cochin  DEL → LKO → BOM → COK    09:25   \n",
       "3       IndiGo   Kolkata    Banglore        CCU → NAG → BLR    18:05   \n",
       "4       IndiGo  Banglore   New Delhi        BLR → NAG → DEL    16:50   \n",
       "\n",
       "   Arrival_Time Duration Total_Stops Additional_Info  Price  day_of_journey  \\\n",
       "0  01:10 22 Mar   2h 50m    non-stop         No info   3897              24   \n",
       "1         13:15   7h 25m     2 stops         No info   7662               1   \n",
       "2  04:25 10 Jun      19h     2 stops         No info  13882               9   \n",
       "3         23:30   5h 25m      1 stop         No info   6218              12   \n",
       "4         21:35   4h 45m      1 stop         No info  13302               1   \n",
       "\n",
       "   month_of_journey  dep_hour  dep_minute  \n",
       "0                 3        22          20  \n",
       "1                 5         5          50  \n",
       "2                 6         9          25  \n",
       "3                 5        18           5  \n",
       "4                 3        16          50  "
      ]
     },
     "execution_count": 11,
     "metadata": {},
     "output_type": "execute_result"
    }
   ],
   "source": [
    "df.head(5)"
   ]
  },
  {
   "cell_type": "code",
   "execution_count": 12,
   "metadata": {},
   "outputs": [],
   "source": [
    "df.drop(['Dep_Time'],axis=1,inplace=True)"
   ]
  },
  {
   "cell_type": "code",
   "execution_count": 13,
   "metadata": {},
   "outputs": [
    {
     "data": {
      "application/javascript": "\n        if (window._pyforest_update_imports_cell) { window._pyforest_update_imports_cell('import pandas as pd'); }\n    ",
      "text/plain": [
       "<IPython.core.display.Javascript object>"
      ]
     },
     "metadata": {},
     "output_type": "display_data"
    },
    {
     "data": {
      "application/javascript": "\n        if (window._pyforest_update_imports_cell) { window._pyforest_update_imports_cell('import pandas as pd'); }\n    ",
      "text/plain": [
       "<IPython.core.display.Javascript object>"
      ]
     },
     "metadata": {},
     "output_type": "display_data"
    }
   ],
   "source": [
    "df['Arrival_hour']=pd.to_datetime(df['Arrival_Time']).dt.hour\n",
    "df['Arrival_minute']=pd.to_datetime(df['Arrival_Time']).dt.minute"
   ]
  },
  {
   "cell_type": "code",
   "execution_count": 14,
   "metadata": {},
   "outputs": [
    {
     "data": {
      "text/html": [
       "<div>\n",
       "<style scoped>\n",
       "    .dataframe tbody tr th:only-of-type {\n",
       "        vertical-align: middle;\n",
       "    }\n",
       "\n",
       "    .dataframe tbody tr th {\n",
       "        vertical-align: top;\n",
       "    }\n",
       "\n",
       "    .dataframe thead th {\n",
       "        text-align: right;\n",
       "    }\n",
       "</style>\n",
       "<table border=\"1\" class=\"dataframe\">\n",
       "  <thead>\n",
       "    <tr style=\"text-align: right;\">\n",
       "      <th></th>\n",
       "      <th>Airline</th>\n",
       "      <th>Source</th>\n",
       "      <th>Destination</th>\n",
       "      <th>Route</th>\n",
       "      <th>Arrival_Time</th>\n",
       "      <th>Duration</th>\n",
       "      <th>Total_Stops</th>\n",
       "      <th>Additional_Info</th>\n",
       "      <th>Price</th>\n",
       "      <th>day_of_journey</th>\n",
       "      <th>month_of_journey</th>\n",
       "      <th>dep_hour</th>\n",
       "      <th>dep_minute</th>\n",
       "      <th>Arrival_hour</th>\n",
       "      <th>Arrival_minute</th>\n",
       "    </tr>\n",
       "  </thead>\n",
       "  <tbody>\n",
       "    <tr>\n",
       "      <th>0</th>\n",
       "      <td>IndiGo</td>\n",
       "      <td>Banglore</td>\n",
       "      <td>New Delhi</td>\n",
       "      <td>BLR → DEL</td>\n",
       "      <td>01:10 22 Mar</td>\n",
       "      <td>2h 50m</td>\n",
       "      <td>non-stop</td>\n",
       "      <td>No info</td>\n",
       "      <td>3897</td>\n",
       "      <td>24</td>\n",
       "      <td>3</td>\n",
       "      <td>22</td>\n",
       "      <td>20</td>\n",
       "      <td>1</td>\n",
       "      <td>10</td>\n",
       "    </tr>\n",
       "    <tr>\n",
       "      <th>1</th>\n",
       "      <td>Air India</td>\n",
       "      <td>Kolkata</td>\n",
       "      <td>Banglore</td>\n",
       "      <td>CCU → IXR → BBI → BLR</td>\n",
       "      <td>13:15</td>\n",
       "      <td>7h 25m</td>\n",
       "      <td>2 stops</td>\n",
       "      <td>No info</td>\n",
       "      <td>7662</td>\n",
       "      <td>1</td>\n",
       "      <td>5</td>\n",
       "      <td>5</td>\n",
       "      <td>50</td>\n",
       "      <td>13</td>\n",
       "      <td>15</td>\n",
       "    </tr>\n",
       "    <tr>\n",
       "      <th>2</th>\n",
       "      <td>Jet Airways</td>\n",
       "      <td>Delhi</td>\n",
       "      <td>Cochin</td>\n",
       "      <td>DEL → LKO → BOM → COK</td>\n",
       "      <td>04:25 10 Jun</td>\n",
       "      <td>19h</td>\n",
       "      <td>2 stops</td>\n",
       "      <td>No info</td>\n",
       "      <td>13882</td>\n",
       "      <td>9</td>\n",
       "      <td>6</td>\n",
       "      <td>9</td>\n",
       "      <td>25</td>\n",
       "      <td>4</td>\n",
       "      <td>25</td>\n",
       "    </tr>\n",
       "    <tr>\n",
       "      <th>3</th>\n",
       "      <td>IndiGo</td>\n",
       "      <td>Kolkata</td>\n",
       "      <td>Banglore</td>\n",
       "      <td>CCU → NAG → BLR</td>\n",
       "      <td>23:30</td>\n",
       "      <td>5h 25m</td>\n",
       "      <td>1 stop</td>\n",
       "      <td>No info</td>\n",
       "      <td>6218</td>\n",
       "      <td>12</td>\n",
       "      <td>5</td>\n",
       "      <td>18</td>\n",
       "      <td>5</td>\n",
       "      <td>23</td>\n",
       "      <td>30</td>\n",
       "    </tr>\n",
       "    <tr>\n",
       "      <th>4</th>\n",
       "      <td>IndiGo</td>\n",
       "      <td>Banglore</td>\n",
       "      <td>New Delhi</td>\n",
       "      <td>BLR → NAG → DEL</td>\n",
       "      <td>21:35</td>\n",
       "      <td>4h 45m</td>\n",
       "      <td>1 stop</td>\n",
       "      <td>No info</td>\n",
       "      <td>13302</td>\n",
       "      <td>1</td>\n",
       "      <td>3</td>\n",
       "      <td>16</td>\n",
       "      <td>50</td>\n",
       "      <td>21</td>\n",
       "      <td>35</td>\n",
       "    </tr>\n",
       "  </tbody>\n",
       "</table>\n",
       "</div>"
      ],
      "text/plain": [
       "       Airline    Source Destination                  Route  Arrival_Time  \\\n",
       "0       IndiGo  Banglore   New Delhi              BLR → DEL  01:10 22 Mar   \n",
       "1    Air India   Kolkata    Banglore  CCU → IXR → BBI → BLR         13:15   \n",
       "2  Jet Airways     Delhi      Cochin  DEL → LKO → BOM → COK  04:25 10 Jun   \n",
       "3       IndiGo   Kolkata    Banglore        CCU → NAG → BLR         23:30   \n",
       "4       IndiGo  Banglore   New Delhi        BLR → NAG → DEL         21:35   \n",
       "\n",
       "  Duration Total_Stops Additional_Info  Price  day_of_journey  \\\n",
       "0   2h 50m    non-stop         No info   3897              24   \n",
       "1   7h 25m     2 stops         No info   7662               1   \n",
       "2      19h     2 stops         No info  13882               9   \n",
       "3   5h 25m      1 stop         No info   6218              12   \n",
       "4   4h 45m      1 stop         No info  13302               1   \n",
       "\n",
       "   month_of_journey  dep_hour  dep_minute  Arrival_hour  Arrival_minute  \n",
       "0                 3        22          20             1              10  \n",
       "1                 5         5          50            13              15  \n",
       "2                 6         9          25             4              25  \n",
       "3                 5        18           5            23              30  \n",
       "4                 3        16          50            21              35  "
      ]
     },
     "execution_count": 14,
     "metadata": {},
     "output_type": "execute_result"
    }
   ],
   "source": [
    "df.head(5)"
   ]
  },
  {
   "cell_type": "code",
   "execution_count": 15,
   "metadata": {},
   "outputs": [],
   "source": [
    "df.drop(['Arrival_Time'],axis=1,inplace=True)"
   ]
  },
  {
   "cell_type": "code",
   "execution_count": 16,
   "metadata": {},
   "outputs": [],
   "source": [
    "duration = df['Duration'].str.split(' ',expand =True)#spliting duration datapoints based on space\n",
    "duration[1].fillna('00m',inplace =True)# filling nan values\n",
    "df['Duration_hour'] = duration[0].apply(lambda x:x [:-1]) #select the item at index o and leave the last one (in this case the 'h')\n",
    "df['Duration_min'] = duration[1].apply(lambda x:x [:-1])#select the item at index 1 and leave the last one (in this case the 'm')\n"
   ]
  },
  {
   "cell_type": "code",
   "execution_count": 17,
   "metadata": {},
   "outputs": [],
   "source": [
    "df.drop(['Duration'],axis=1,inplace=True)"
   ]
  },
  {
   "cell_type": "code",
   "execution_count": 18,
   "metadata": {},
   "outputs": [
    {
     "data": {
      "text/html": [
       "<div>\n",
       "<style scoped>\n",
       "    .dataframe tbody tr th:only-of-type {\n",
       "        vertical-align: middle;\n",
       "    }\n",
       "\n",
       "    .dataframe tbody tr th {\n",
       "        vertical-align: top;\n",
       "    }\n",
       "\n",
       "    .dataframe thead th {\n",
       "        text-align: right;\n",
       "    }\n",
       "</style>\n",
       "<table border=\"1\" class=\"dataframe\">\n",
       "  <thead>\n",
       "    <tr style=\"text-align: right;\">\n",
       "      <th></th>\n",
       "      <th>Airline</th>\n",
       "      <th>Source</th>\n",
       "      <th>Destination</th>\n",
       "      <th>Route</th>\n",
       "      <th>Total_Stops</th>\n",
       "      <th>Additional_Info</th>\n",
       "      <th>Price</th>\n",
       "      <th>day_of_journey</th>\n",
       "      <th>month_of_journey</th>\n",
       "      <th>dep_hour</th>\n",
       "      <th>dep_minute</th>\n",
       "      <th>Arrival_hour</th>\n",
       "      <th>Arrival_minute</th>\n",
       "      <th>Duration_hour</th>\n",
       "      <th>Duration_min</th>\n",
       "    </tr>\n",
       "  </thead>\n",
       "  <tbody>\n",
       "    <tr>\n",
       "      <th>0</th>\n",
       "      <td>IndiGo</td>\n",
       "      <td>Banglore</td>\n",
       "      <td>New Delhi</td>\n",
       "      <td>BLR → DEL</td>\n",
       "      <td>non-stop</td>\n",
       "      <td>No info</td>\n",
       "      <td>3897</td>\n",
       "      <td>24</td>\n",
       "      <td>3</td>\n",
       "      <td>22</td>\n",
       "      <td>20</td>\n",
       "      <td>1</td>\n",
       "      <td>10</td>\n",
       "      <td>2</td>\n",
       "      <td>50</td>\n",
       "    </tr>\n",
       "    <tr>\n",
       "      <th>1</th>\n",
       "      <td>Air India</td>\n",
       "      <td>Kolkata</td>\n",
       "      <td>Banglore</td>\n",
       "      <td>CCU → IXR → BBI → BLR</td>\n",
       "      <td>2 stops</td>\n",
       "      <td>No info</td>\n",
       "      <td>7662</td>\n",
       "      <td>1</td>\n",
       "      <td>5</td>\n",
       "      <td>5</td>\n",
       "      <td>50</td>\n",
       "      <td>13</td>\n",
       "      <td>15</td>\n",
       "      <td>7</td>\n",
       "      <td>25</td>\n",
       "    </tr>\n",
       "    <tr>\n",
       "      <th>2</th>\n",
       "      <td>Jet Airways</td>\n",
       "      <td>Delhi</td>\n",
       "      <td>Cochin</td>\n",
       "      <td>DEL → LKO → BOM → COK</td>\n",
       "      <td>2 stops</td>\n",
       "      <td>No info</td>\n",
       "      <td>13882</td>\n",
       "      <td>9</td>\n",
       "      <td>6</td>\n",
       "      <td>9</td>\n",
       "      <td>25</td>\n",
       "      <td>4</td>\n",
       "      <td>25</td>\n",
       "      <td>19</td>\n",
       "      <td>00</td>\n",
       "    </tr>\n",
       "    <tr>\n",
       "      <th>3</th>\n",
       "      <td>IndiGo</td>\n",
       "      <td>Kolkata</td>\n",
       "      <td>Banglore</td>\n",
       "      <td>CCU → NAG → BLR</td>\n",
       "      <td>1 stop</td>\n",
       "      <td>No info</td>\n",
       "      <td>6218</td>\n",
       "      <td>12</td>\n",
       "      <td>5</td>\n",
       "      <td>18</td>\n",
       "      <td>5</td>\n",
       "      <td>23</td>\n",
       "      <td>30</td>\n",
       "      <td>5</td>\n",
       "      <td>25</td>\n",
       "    </tr>\n",
       "    <tr>\n",
       "      <th>4</th>\n",
       "      <td>IndiGo</td>\n",
       "      <td>Banglore</td>\n",
       "      <td>New Delhi</td>\n",
       "      <td>BLR → NAG → DEL</td>\n",
       "      <td>1 stop</td>\n",
       "      <td>No info</td>\n",
       "      <td>13302</td>\n",
       "      <td>1</td>\n",
       "      <td>3</td>\n",
       "      <td>16</td>\n",
       "      <td>50</td>\n",
       "      <td>21</td>\n",
       "      <td>35</td>\n",
       "      <td>4</td>\n",
       "      <td>45</td>\n",
       "    </tr>\n",
       "  </tbody>\n",
       "</table>\n",
       "</div>"
      ],
      "text/plain": [
       "       Airline    Source Destination                  Route Total_Stops  \\\n",
       "0       IndiGo  Banglore   New Delhi              BLR → DEL    non-stop   \n",
       "1    Air India   Kolkata    Banglore  CCU → IXR → BBI → BLR     2 stops   \n",
       "2  Jet Airways     Delhi      Cochin  DEL → LKO → BOM → COK     2 stops   \n",
       "3       IndiGo   Kolkata    Banglore        CCU → NAG → BLR      1 stop   \n",
       "4       IndiGo  Banglore   New Delhi        BLR → NAG → DEL      1 stop   \n",
       "\n",
       "  Additional_Info  Price  day_of_journey  month_of_journey  dep_hour  \\\n",
       "0         No info   3897              24                 3        22   \n",
       "1         No info   7662               1                 5         5   \n",
       "2         No info  13882               9                 6         9   \n",
       "3         No info   6218              12                 5        18   \n",
       "4         No info  13302               1                 3        16   \n",
       "\n",
       "   dep_minute  Arrival_hour  Arrival_minute Duration_hour Duration_min  \n",
       "0          20             1              10             2           50  \n",
       "1          50            13              15             7           25  \n",
       "2          25             4              25            19           00  \n",
       "3           5            23              30             5           25  \n",
       "4          50            21              35             4           45  "
      ]
     },
     "execution_count": 18,
     "metadata": {},
     "output_type": "execute_result"
    }
   ],
   "source": [
    "df.head(5)"
   ]
  },
  {
   "attachments": {},
   "cell_type": "markdown",
   "metadata": {},
   "source": [
    "# EDA"
   ]
  },
  {
   "cell_type": "code",
   "execution_count": 19,
   "metadata": {},
   "outputs": [
    {
     "data": {
      "text/html": [
       "        <script type=\"text/javascript\">\n",
       "        window.PlotlyConfig = {MathJaxConfig: 'local'};\n",
       "        if (window.MathJax && window.MathJax.Hub && window.MathJax.Hub.Config) {window.MathJax.Hub.Config({SVG: {font: \"STIX-Web\"}});}\n",
       "        if (typeof require !== 'undefined') {\n",
       "        require.undef(\"plotly\");\n",
       "        requirejs.config({\n",
       "            paths: {\n",
       "                'plotly': ['https://cdn.plot.ly/plotly-2.18.2.min']\n",
       "            }\n",
       "        });\n",
       "        require(['plotly'], function(Plotly) {\n",
       "            window._Plotly = Plotly;\n",
       "        });\n",
       "        }\n",
       "        </script>\n",
       "        "
      ]
     },
     "metadata": {},
     "output_type": "display_data"
    }
   ],
   "source": [
    "cf.set_config_file(theme='ggplot',sharing='public',offline=True)"
   ]
  },
  {
   "cell_type": "code",
   "execution_count": 20,
   "metadata": {},
   "outputs": [
    {
     "data": {
      "application/javascript": "\n        if (window._pyforest_update_imports_cell) { window._pyforest_update_imports_cell('import pandas as pd\\nimport matplotlib.pyplot as plt'); }\n    ",
      "text/plain": [
       "<IPython.core.display.Javascript object>"
      ]
     },
     "metadata": {},
     "output_type": "display_data"
    },
    {
     "data": {
      "application/javascript": "\n        if (window._pyforest_update_imports_cell) { window._pyforest_update_imports_cell('import pandas as pd\\nimport seaborn as sns\\nimport matplotlib.pyplot as plt'); }\n    ",
      "text/plain": [
       "<IPython.core.display.Javascript object>"
      ]
     },
     "metadata": {},
     "output_type": "display_data"
    },
    {
     "data": {
      "application/javascript": "\n        if (window._pyforest_update_imports_cell) { window._pyforest_update_imports_cell('import pandas as pd\\nimport seaborn as sns\\nimport matplotlib.pyplot as plt'); }\n    ",
      "text/plain": [
       "<IPython.core.display.Javascript object>"
      ]
     },
     "metadata": {},
     "output_type": "display_data"
    },
    {
     "data": {
      "text/plain": [
       "(array([ 0,  1,  2,  3,  4,  5,  6,  7,  8,  9, 10, 11]),\n",
       " [Text(0, 0, 'Jet Airways Business'),\n",
       "  Text(1, 0, 'Jet Airways'),\n",
       "  Text(2, 0, 'Multiple carriers Premium economy'),\n",
       "  Text(3, 0, 'Multiple carriers'),\n",
       "  Text(4, 0, 'Air India'),\n",
       "  Text(5, 0, 'Vistara Premium economy'),\n",
       "  Text(6, 0, 'Vistara'),\n",
       "  Text(7, 0, 'GoAir'),\n",
       "  Text(8, 0, 'IndiGo'),\n",
       "  Text(9, 0, 'Air Asia'),\n",
       "  Text(10, 0, 'SpiceJet'),\n",
       "  Text(11, 0, 'Trujet')])"
      ]
     },
     "execution_count": 20,
     "metadata": {},
     "output_type": "execute_result"
    },
    {
     "data": {
      "image/png": "[encoded data removed]",
      "text/plain": [
       "<Figure size 640x480 with 1 Axes>"
      ]
     },
     "metadata": {},
     "output_type": "display_data"
    }
   ],
   "source": [
    "airprices = df.groupby('Airline')['Price'].mean().sort_values(ascending = False)\n",
    "plt.Figure(figsize=(15,10))\n",
    "sns.barplot(x=airprices.index,y=airprices.values)\n",
    "plt.xticks(rotation =270)"
   ]
  },
  {
   "cell_type": "code",
   "execution_count": 21,
   "metadata": {},
   "outputs": [
    {
     "data": {
      "application/javascript": "\n        if (window._pyforest_update_imports_cell) { window._pyforest_update_imports_cell('import pandas as pd\\nimport seaborn as sns\\nimport matplotlib.pyplot as plt'); }\n    ",
      "text/plain": [
       "<IPython.core.display.Javascript object>"
      ]
     },
     "metadata": {},
     "output_type": "display_data"
    },
    {
     "data": {
      "application/javascript": "\n        if (window._pyforest_update_imports_cell) { window._pyforest_update_imports_cell('import pandas as pd\\nimport seaborn as sns\\nimport matplotlib.pyplot as plt'); }\n    ",
      "text/plain": [
       "<IPython.core.display.Javascript object>"
      ]
     },
     "metadata": {},
     "output_type": "display_data"
    },
    {
     "data": {
      "application/javascript": "\n        if (window._pyforest_update_imports_cell) { window._pyforest_update_imports_cell('import pandas as pd\\nimport seaborn as sns\\nimport matplotlib.pyplot as plt'); }\n    ",
      "text/plain": [
       "<IPython.core.display.Javascript object>"
      ]
     },
     "metadata": {},
     "output_type": "display_data"
    },
    {
     "data": {
      "application/javascript": "\n        if (window._pyforest_update_imports_cell) { window._pyforest_update_imports_cell('import pandas as pd\\nimport seaborn as sns\\nimport matplotlib.pyplot as plt'); }\n    ",
      "text/plain": [
       "<IPython.core.display.Javascript object>"
      ]
     },
     "metadata": {},
     "output_type": "display_data"
    },
    {
     "data": {
      "image/png": "[encoded data removed]",
      "text/plain": [
       "<Figure size 1800x1000 with 1 Axes>"
      ]
     },
     "metadata": {},
     "output_type": "display_data"
    }
   ],
   "source": [
    "\n",
    "fig, ax = plt.subplots(figsize=(18, 10))\n",
    "sns.boxplot(y='Price', x='Airline', data=df.sort_values('Price', ascending=False), ax=ax)\n",
    "ax.set_xticklabels(ax.get_xticklabels(), rotation=90)\n",
    "plt.tight_layout()\n",
    "plt.show()\n"
   ]
  },
  {
   "cell_type": "code",
   "execution_count": 22,
   "metadata": {},
   "outputs": [
    {
     "data": {
      "text/plain": [
       "Airline                            Total_Stops\n",
       "Air Asia                           1 stop          7078.325581\n",
       "                                   2 stops         6341.888889\n",
       "                                   non-stop        4492.331492\n",
       "Air India                          1 stop          9041.509259\n",
       "                                   2 stops        12092.779101\n",
       "                                   3 stops        12208.054054\n",
       "                                   4 stops        17686.000000\n",
       "                                   non-stop        5605.326139\n",
       "GoAir                              1 stop          6884.676471\n",
       "                                   non-stop        4726.173913\n",
       "IndiGo                             1 stop          7104.717528\n",
       "                                   2 stops         7507.526316\n",
       "                                   non-stop        4731.174053\n",
       "Jet Airways                        1 stop         12512.741223\n",
       "                                   2 stops        13387.247467\n",
       "                                   non-stop        6175.078652\n",
       "Jet Airways Business               1 stop         62844.250000\n",
       "                                   2 stops        49387.500000\n",
       "Multiple carriers                  1 stop         10711.316157\n",
       "                                   2 stops        14809.395349\n",
       "                                   3 stops        17292.750000\n",
       "Multiple carriers Premium economy  1 stop         11418.846154\n",
       "SpiceJet                           1 stop          6750.560811\n",
       "                                   non-stop        3805.423881\n",
       "Trujet                             1 stop          4140.000000\n",
       "Vistara                            1 stop          9641.148837\n",
       "                                   non-stop        6293.954545\n",
       "Vistara Premium economy            non-stop        8962.333333\n",
       "Name: Price, dtype: float64"
      ]
     },
     "execution_count": 22,
     "metadata": {},
     "output_type": "execute_result"
    }
   ],
   "source": [
    "df.groupby(['Airline','Total_Stops'])['Price'].mean()"
   ]
  },
  {
   "cell_type": "code",
   "execution_count": 23,
   "metadata": {},
   "outputs": [
    {
     "data": {
      "application/javascript": "\n        if (window._pyforest_update_imports_cell) { window._pyforest_update_imports_cell('import pandas as pd\\nimport seaborn as sns\\nimport matplotlib.pyplot as plt'); }\n    ",
      "text/plain": [
       "<IPython.core.display.Javascript object>"
      ]
     },
     "metadata": {},
     "output_type": "display_data"
    },
    {
     "data": {
      "application/javascript": "\n        if (window._pyforest_update_imports_cell) { window._pyforest_update_imports_cell('import pandas as pd\\nimport seaborn as sns\\nimport matplotlib.pyplot as plt'); }\n    ",
      "text/plain": [
       "<IPython.core.display.Javascript object>"
      ]
     },
     "metadata": {},
     "output_type": "display_data"
    },
    {
     "data": {
      "application/javascript": "\n        if (window._pyforest_update_imports_cell) { window._pyforest_update_imports_cell('import pandas as pd\\nimport seaborn as sns\\nimport matplotlib.pyplot as plt'); }\n    ",
      "text/plain": [
       "<IPython.core.display.Javascript object>"
      ]
     },
     "metadata": {},
     "output_type": "display_data"
    },
    {
     "data": {
      "application/javascript": "\n        if (window._pyforest_update_imports_cell) { window._pyforest_update_imports_cell('import pandas as pd\\nimport seaborn as sns\\nimport matplotlib.pyplot as plt'); }\n    ",
      "text/plain": [
       "<IPython.core.display.Javascript object>"
      ]
     },
     "metadata": {},
     "output_type": "display_data"
    },
    {
     "data": {
      "image/png": "[encoded data removed]",
      "text/plain": [
       "<Figure size 1800x1000 with 1 Axes>"
      ]
     },
     "metadata": {},
     "output_type": "display_data"
    }
   ],
   "source": [
    "fig, ax = plt.subplots(figsize=(18, 10))\n",
    "sns.barplot(y=df['Price'], x=df['Airline'],hue=df['Total_Stops'], ax=ax)\n",
    "ax.set_xticklabels(ax.get_xticklabels(), rotation=90)\n",
    "plt.tight_layout()\n",
    "plt.show()\n"
   ]
  },
  {
   "cell_type": "code",
   "execution_count": 24,
   "metadata": {},
   "outputs": [
    {
     "data": {
      "application/javascript": "\n        if (window._pyforest_update_imports_cell) { window._pyforest_update_imports_cell('import pandas as pd\\nimport seaborn as sns\\nimport matplotlib.pyplot as plt'); }\n    ",
      "text/plain": [
       "<IPython.core.display.Javascript object>"
      ]
     },
     "metadata": {},
     "output_type": "display_data"
    },
    {
     "data": {
      "application/javascript": "\n        if (window._pyforest_update_imports_cell) { window._pyforest_update_imports_cell('import pandas as pd\\nimport seaborn as sns\\nimport matplotlib.pyplot as plt'); }\n    ",
      "text/plain": [
       "<IPython.core.display.Javascript object>"
      ]
     },
     "metadata": {},
     "output_type": "display_data"
    },
    {
     "data": {
      "application/javascript": "\n        if (window._pyforest_update_imports_cell) { window._pyforest_update_imports_cell('import pandas as pd\\nimport seaborn as sns\\nimport matplotlib.pyplot as plt'); }\n    ",
      "text/plain": [
       "<IPython.core.display.Javascript object>"
      ]
     },
     "metadata": {},
     "output_type": "display_data"
    },
    {
     "data": {
      "text/plain": [
       "<function matplotlib.pyplot.show(close=None, block=None)>"
      ]
     },
     "execution_count": 24,
     "metadata": {},
     "output_type": "execute_result"
    },
    {
     "data": {
      "image/png": "[encoded data removed]",
      "text/plain": [
       "<Figure size 1500x1000 with 1 Axes>"
      ]
     },
     "metadata": {},
     "output_type": "display_data"
    }
   ],
   "source": [
    "plt.figure(figsize=(15,10))\n",
    "sns.barplot(y='Price',x='Source',data=df.sort_values('Price',ascending=False))\n",
    "plt.show"
   ]
  },
  {
   "cell_type": "code",
   "execution_count": 25,
   "metadata": {},
   "outputs": [
    {
     "data": {
      "application/javascript": "\n        if (window._pyforest_update_imports_cell) { window._pyforest_update_imports_cell('import pandas as pd\\nimport seaborn as sns\\nimport matplotlib.pyplot as plt'); }\n    ",
      "text/plain": [
       "<IPython.core.display.Javascript object>"
      ]
     },
     "metadata": {},
     "output_type": "display_data"
    },
    {
     "data": {
      "application/javascript": "\n        if (window._pyforest_update_imports_cell) { window._pyforest_update_imports_cell('import pandas as pd\\nimport seaborn as sns\\nimport matplotlib.pyplot as plt'); }\n    ",
      "text/plain": [
       "<IPython.core.display.Javascript object>"
      ]
     },
     "metadata": {},
     "output_type": "display_data"
    },
    {
     "data": {
      "application/javascript": "\n        if (window._pyforest_update_imports_cell) { window._pyforest_update_imports_cell('import pandas as pd\\nimport seaborn as sns\\nimport matplotlib.pyplot as plt'); }\n    ",
      "text/plain": [
       "<IPython.core.display.Javascript object>"
      ]
     },
     "metadata": {},
     "output_type": "display_data"
    },
    {
     "data": {
      "text/plain": [
       "<function matplotlib.pyplot.show(close=None, block=None)>"
      ]
     },
     "execution_count": 25,
     "metadata": {},
     "output_type": "execute_result"
    },
    {
     "data": {
      "image/png": "[encoded data removed]",
      "text/plain": [
       "<Figure size 1500x1000 with 1 Axes>"
      ]
     },
     "metadata": {},
     "output_type": "display_data"
    }
   ],
   "source": [
    "plt.figure(figsize=(15,10))\n",
    "sns.barplot(y='Price',x='Destination',data=df.sort_values('Price',ascending=False))\n",
    "plt.show"
   ]
  },
  {
   "cell_type": "code",
   "execution_count": 26,
   "metadata": {},
   "outputs": [
    {
     "data": {
      "text/plain": [
       "Cochin       4536\n",
       "Banglore     2871\n",
       "Delhi        1265\n",
       "New Delhi     932\n",
       "Hyderabad     697\n",
       "Kolkata       381\n",
       "Name: Destination, dtype: int64"
      ]
     },
     "execution_count": 26,
     "metadata": {},
     "output_type": "execute_result"
    }
   ],
   "source": [
    "df['Destination'].value_counts()"
   ]
  },
  {
   "cell_type": "code",
   "execution_count": 27,
   "metadata": {},
   "outputs": [],
   "source": [
    "for i in df:\n",
    "    df.replace('New Delhi','Delhi',inplace=True)"
   ]
  },
  {
   "cell_type": "code",
   "execution_count": 28,
   "metadata": {},
   "outputs": [
    {
     "data": {
      "text/plain": [
       "array(['Delhi', 'Banglore', 'Cochin', 'Kolkata', 'Hyderabad'],\n",
       "      dtype=object)"
      ]
     },
     "execution_count": 28,
     "metadata": {},
     "output_type": "execute_result"
    }
   ],
   "source": [
    "df['Destination'].unique()"
   ]
  },
  {
   "cell_type": "code",
   "execution_count": 29,
   "metadata": {},
   "outputs": [
    {
     "data": {
      "application/javascript": "\n        if (window._pyforest_update_imports_cell) { window._pyforest_update_imports_cell('import pandas as pd\\nimport seaborn as sns\\nimport matplotlib.pyplot as plt'); }\n    ",
      "text/plain": [
       "<IPython.core.display.Javascript object>"
      ]
     },
     "metadata": {},
     "output_type": "display_data"
    },
    {
     "data": {
      "application/javascript": "\n        if (window._pyforest_update_imports_cell) { window._pyforest_update_imports_cell('import pandas as pd\\nimport seaborn as sns\\nimport matplotlib.pyplot as plt'); }\n    ",
      "text/plain": [
       "<IPython.core.display.Javascript object>"
      ]
     },
     "metadata": {},
     "output_type": "display_data"
    },
    {
     "data": {
      "application/javascript": "\n        if (window._pyforest_update_imports_cell) { window._pyforest_update_imports_cell('import pandas as pd\\nimport seaborn as sns\\nimport matplotlib.pyplot as plt'); }\n    ",
      "text/plain": [
       "<IPython.core.display.Javascript object>"
      ]
     },
     "metadata": {},
     "output_type": "display_data"
    },
    {
     "data": {
      "text/plain": [
       "<function matplotlib.pyplot.show(close=None, block=None)>"
      ]
     },
     "execution_count": 29,
     "metadata": {},
     "output_type": "execute_result"
    },
    {
     "data": {
      "image/png": "[encoded data removed]",
      "text/plain": [
       "<Figure size 1500x1000 with 1 Axes>"
      ]
     },
     "metadata": {},
     "output_type": "display_data"
    }
   ],
   "source": [
    "plt.figure(figsize=(15,10))\n",
    "sns.barplot(y='Price',x='Destination',data=df.sort_values('Price',ascending=False))\n",
    "plt.show"
   ]
  },
  {
   "cell_type": "code",
   "execution_count": 30,
   "metadata": {},
   "outputs": [
    {
     "data": {
      "application/javascript": "\n        if (window._pyforest_update_imports_cell) { window._pyforest_update_imports_cell('import pandas as pd\\nimport seaborn as sns\\nimport matplotlib.pyplot as plt'); }\n    ",
      "text/plain": [
       "<IPython.core.display.Javascript object>"
      ]
     },
     "metadata": {},
     "output_type": "display_data"
    },
    {
     "data": {
      "application/javascript": "\n        if (window._pyforest_update_imports_cell) { window._pyforest_update_imports_cell('import pandas as pd\\nimport seaborn as sns\\nimport matplotlib.pyplot as plt'); }\n    ",
      "text/plain": [
       "<IPython.core.display.Javascript object>"
      ]
     },
     "metadata": {},
     "output_type": "display_data"
    },
    {
     "name": "stderr",
     "output_type": "stream",
     "text": [
      "C:\\Users\\ahada\\AppData\\Local\\Temp\\ipykernel_16624\\3001103457.py:2: FutureWarning:\n",
      "\n",
      "The default value of numeric_only in DataFrame.corr is deprecated. In a future version, it will default to False. Select only valid columns or specify the value of numeric_only to silence this warning.\n",
      "\n"
     ]
    },
    {
     "data": {
      "text/plain": [
       "<Axes: >"
      ]
     },
     "execution_count": 30,
     "metadata": {},
     "output_type": "execute_result"
    },
    {
     "data": {
      "image/png": "[encoded data removed]",
      "text/plain": [
       "<Figure size 2300x1200 with 2 Axes>"
      ]
     },
     "metadata": {},
     "output_type": "display_data"
    }
   ],
   "source": [
    "plt.figure(figsize=(23,12))\n",
    "sns.heatmap(df.corr(),annot=True)"
   ]
  },
  {
   "cell_type": "code",
   "execution_count": 31,
   "metadata": {},
   "outputs": [
    {
     "data": {
      "text/plain": [
       "1 stop      5625\n",
       "non-stop    3491\n",
       "2 stops     1520\n",
       "3 stops       45\n",
       "4 stops        1\n",
       "Name: Total_Stops, dtype: int64"
      ]
     },
     "execution_count": 31,
     "metadata": {},
     "output_type": "execute_result"
    }
   ],
   "source": [
    "df['Total_Stops'].value_counts()"
   ]
  },
  {
   "cell_type": "code",
   "execution_count": 32,
   "metadata": {},
   "outputs": [],
   "source": [
    "df['Total_Stops']=df['Total_Stops'].replace({'non-stop':0,'1 stop':1,'2 stops':2,\n",
    "                                             '3 stops':3,'4 stops':4})"
   ]
  },
  {
   "cell_type": "code",
   "execution_count": 33,
   "metadata": {},
   "outputs": [
    {
     "data": {
      "text/plain": [
       "1    5625\n",
       "0    3491\n",
       "2    1520\n",
       "3      45\n",
       "4       1\n",
       "Name: Total_Stops, dtype: int64"
      ]
     },
     "execution_count": 33,
     "metadata": {},
     "output_type": "execute_result"
    }
   ],
   "source": [
    "df['Total_Stops'].value_counts()"
   ]
  },
  {
   "cell_type": "code",
   "execution_count": 34,
   "metadata": {},
   "outputs": [
    {
     "data": {
      "text/plain": [
       "Index(['Airline', 'Source', 'Destination', 'Route', 'Total_Stops',\n",
       "       'Additional_Info', 'Price', 'day_of_journey', 'month_of_journey',\n",
       "       'dep_hour', 'dep_minute', 'Arrival_hour', 'Arrival_minute',\n",
       "       'Duration_hour', 'Duration_min'],\n",
       "      dtype='object')"
      ]
     },
     "execution_count": 34,
     "metadata": {},
     "output_type": "execute_result"
    }
   ],
   "source": [
    "df.columns"
   ]
  },
  {
   "cell_type": "code",
   "execution_count": 35,
   "metadata": {},
   "outputs": [
    {
     "data": {
      "application/javascript": "\n        if (window._pyforest_update_imports_cell) { window._pyforest_update_imports_cell('import pandas as pd\\nimport seaborn as sns\\nimport matplotlib.pyplot as plt'); }\n    ",
      "text/plain": [
       "<IPython.core.display.Javascript object>"
      ]
     },
     "metadata": {},
     "output_type": "display_data"
    },
    {
     "data": {
      "application/javascript": "\n        if (window._pyforest_update_imports_cell) { window._pyforest_update_imports_cell('import pandas as pd\\nimport seaborn as sns\\nimport matplotlib.pyplot as plt'); }\n    ",
      "text/plain": [
       "<IPython.core.display.Javascript object>"
      ]
     },
     "metadata": {},
     "output_type": "display_data"
    },
    {
     "data": {
      "application/javascript": "\n        if (window._pyforest_update_imports_cell) { window._pyforest_update_imports_cell('import pandas as pd\\nimport seaborn as sns\\nimport matplotlib.pyplot as plt'); }\n    ",
      "text/plain": [
       "<IPython.core.display.Javascript object>"
      ]
     },
     "metadata": {},
     "output_type": "display_data"
    }
   ],
   "source": [
    "air_dumies = pd.get_dummies(df['Airline'],drop_first=True)\n",
    "source_dest_dumies = pd.get_dummies(df[['Source','Destination']],drop_first=True)\n",
    "df =pd.concat([air_dumies,source_dest_dumies,df],axis=1)"
   ]
  },
  {
   "cell_type": "code",
   "execution_count": 36,
   "metadata": {},
   "outputs": [],
   "source": [
    "df.drop(['Airline','Source','Destination'],inplace=True,axis=1)"
   ]
  },
  {
   "cell_type": "code",
   "execution_count": 37,
   "metadata": {},
   "outputs": [
    {
     "data": {
      "text/html": [
       "<div>\n",
       "<style scoped>\n",
       "    .dataframe tbody tr th:only-of-type {\n",
       "        vertical-align: middle;\n",
       "    }\n",
       "\n",
       "    .dataframe tbody tr th {\n",
       "        vertical-align: top;\n",
       "    }\n",
       "\n",
       "    .dataframe thead th {\n",
       "        text-align: right;\n",
       "    }\n",
       "</style>\n",
       "<table border=\"1\" class=\"dataframe\">\n",
       "  <thead>\n",
       "    <tr style=\"text-align: right;\">\n",
       "      <th></th>\n",
       "      <th>Air India</th>\n",
       "      <th>GoAir</th>\n",
       "      <th>IndiGo</th>\n",
       "      <th>Jet Airways</th>\n",
       "      <th>Jet Airways Business</th>\n",
       "      <th>Multiple carriers</th>\n",
       "      <th>Multiple carriers Premium economy</th>\n",
       "      <th>SpiceJet</th>\n",
       "      <th>Trujet</th>\n",
       "      <th>Vistara</th>\n",
       "      <th>...</th>\n",
       "      <th>Additional_Info</th>\n",
       "      <th>Price</th>\n",
       "      <th>day_of_journey</th>\n",
       "      <th>month_of_journey</th>\n",
       "      <th>dep_hour</th>\n",
       "      <th>dep_minute</th>\n",
       "      <th>Arrival_hour</th>\n",
       "      <th>Arrival_minute</th>\n",
       "      <th>Duration_hour</th>\n",
       "      <th>Duration_min</th>\n",
       "    </tr>\n",
       "  </thead>\n",
       "  <tbody>\n",
       "    <tr>\n",
       "      <th>0</th>\n",
       "      <td>0</td>\n",
       "      <td>0</td>\n",
       "      <td>1</td>\n",
       "      <td>0</td>\n",
       "      <td>0</td>\n",
       "      <td>0</td>\n",
       "      <td>0</td>\n",
       "      <td>0</td>\n",
       "      <td>0</td>\n",
       "      <td>0</td>\n",
       "      <td>...</td>\n",
       "      <td>No info</td>\n",
       "      <td>3897</td>\n",
       "      <td>24</td>\n",
       "      <td>3</td>\n",
       "      <td>22</td>\n",
       "      <td>20</td>\n",
       "      <td>1</td>\n",
       "      <td>10</td>\n",
       "      <td>2</td>\n",
       "      <td>50</td>\n",
       "    </tr>\n",
       "    <tr>\n",
       "      <th>1</th>\n",
       "      <td>1</td>\n",
       "      <td>0</td>\n",
       "      <td>0</td>\n",
       "      <td>0</td>\n",
       "      <td>0</td>\n",
       "      <td>0</td>\n",
       "      <td>0</td>\n",
       "      <td>0</td>\n",
       "      <td>0</td>\n",
       "      <td>0</td>\n",
       "      <td>...</td>\n",
       "      <td>No info</td>\n",
       "      <td>7662</td>\n",
       "      <td>1</td>\n",
       "      <td>5</td>\n",
       "      <td>5</td>\n",
       "      <td>50</td>\n",
       "      <td>13</td>\n",
       "      <td>15</td>\n",
       "      <td>7</td>\n",
       "      <td>25</td>\n",
       "    </tr>\n",
       "    <tr>\n",
       "      <th>2</th>\n",
       "      <td>0</td>\n",
       "      <td>0</td>\n",
       "      <td>0</td>\n",
       "      <td>1</td>\n",
       "      <td>0</td>\n",
       "      <td>0</td>\n",
       "      <td>0</td>\n",
       "      <td>0</td>\n",
       "      <td>0</td>\n",
       "      <td>0</td>\n",
       "      <td>...</td>\n",
       "      <td>No info</td>\n",
       "      <td>13882</td>\n",
       "      <td>9</td>\n",
       "      <td>6</td>\n",
       "      <td>9</td>\n",
       "      <td>25</td>\n",
       "      <td>4</td>\n",
       "      <td>25</td>\n",
       "      <td>19</td>\n",
       "      <td>00</td>\n",
       "    </tr>\n",
       "    <tr>\n",
       "      <th>3</th>\n",
       "      <td>0</td>\n",
       "      <td>0</td>\n",
       "      <td>1</td>\n",
       "      <td>0</td>\n",
       "      <td>0</td>\n",
       "      <td>0</td>\n",
       "      <td>0</td>\n",
       "      <td>0</td>\n",
       "      <td>0</td>\n",
       "      <td>0</td>\n",
       "      <td>...</td>\n",
       "      <td>No info</td>\n",
       "      <td>6218</td>\n",
       "      <td>12</td>\n",
       "      <td>5</td>\n",
       "      <td>18</td>\n",
       "      <td>5</td>\n",
       "      <td>23</td>\n",
       "      <td>30</td>\n",
       "      <td>5</td>\n",
       "      <td>25</td>\n",
       "    </tr>\n",
       "    <tr>\n",
       "      <th>4</th>\n",
       "      <td>0</td>\n",
       "      <td>0</td>\n",
       "      <td>1</td>\n",
       "      <td>0</td>\n",
       "      <td>0</td>\n",
       "      <td>0</td>\n",
       "      <td>0</td>\n",
       "      <td>0</td>\n",
       "      <td>0</td>\n",
       "      <td>0</td>\n",
       "      <td>...</td>\n",
       "      <td>No info</td>\n",
       "      <td>13302</td>\n",
       "      <td>1</td>\n",
       "      <td>3</td>\n",
       "      <td>16</td>\n",
       "      <td>50</td>\n",
       "      <td>21</td>\n",
       "      <td>35</td>\n",
       "      <td>4</td>\n",
       "      <td>45</td>\n",
       "    </tr>\n",
       "  </tbody>\n",
       "</table>\n",
       "<p>5 rows × 31 columns</p>\n",
       "</div>"
      ],
      "text/plain": [
       "   Air India  GoAir  IndiGo  Jet Airways  Jet Airways Business  \\\n",
       "0          0      0       1            0                     0   \n",
       "1          1      0       0            0                     0   \n",
       "2          0      0       0            1                     0   \n",
       "3          0      0       1            0                     0   \n",
       "4          0      0       1            0                     0   \n",
       "\n",
       "   Multiple carriers  Multiple carriers Premium economy  SpiceJet  Trujet  \\\n",
       "0                  0                                  0         0       0   \n",
       "1                  0                                  0         0       0   \n",
       "2                  0                                  0         0       0   \n",
       "3                  0                                  0         0       0   \n",
       "4                  0                                  0         0       0   \n",
       "\n",
       "   Vistara  ...  Additional_Info  Price  day_of_journey  month_of_journey  \\\n",
       "0        0  ...          No info   3897              24                 3   \n",
       "1        0  ...          No info   7662               1                 5   \n",
       "2        0  ...          No info  13882               9                 6   \n",
       "3        0  ...          No info   6218              12                 5   \n",
       "4        0  ...          No info  13302               1                 3   \n",
       "\n",
       "   dep_hour  dep_minute  Arrival_hour  Arrival_minute  Duration_hour  \\\n",
       "0        22          20             1              10              2   \n",
       "1         5          50            13              15              7   \n",
       "2         9          25             4              25             19   \n",
       "3        18           5            23              30              5   \n",
       "4        16          50            21              35              4   \n",
       "\n",
       "  Duration_min  \n",
       "0           50  \n",
       "1           25  \n",
       "2           00  \n",
       "3           25  \n",
       "4           45  \n",
       "\n",
       "[5 rows x 31 columns]"
      ]
     },
     "execution_count": 37,
     "metadata": {},
     "output_type": "execute_result"
    }
   ],
   "source": [
    "df.head(5)"
   ]
  },
  {
   "cell_type": "code",
   "execution_count": 38,
   "metadata": {},
   "outputs": [
    {
     "data": {
      "text/plain": [
       "(10682, 31)"
      ]
     },
     "execution_count": 38,
     "metadata": {},
     "output_type": "execute_result"
    }
   ],
   "source": [
    "df.shape"
   ]
  },
  {
   "attachments": {},
   "cell_type": "markdown",
   "metadata": {},
   "source": [
    "# test data"
   ]
  },
  {
   "cell_type": "code",
   "execution_count": 39,
   "metadata": {},
   "outputs": [
    {
     "data": {
      "application/javascript": "\n        if (window._pyforest_update_imports_cell) { window._pyforest_update_imports_cell('import pandas as pd\\nimport seaborn as sns\\nimport matplotlib.pyplot as plt'); }\n    ",
      "text/plain": [
       "<IPython.core.display.Javascript object>"
      ]
     },
     "metadata": {},
     "output_type": "display_data"
    },
    {
     "data": {
      "text/html": [
       "<div>\n",
       "<style scoped>\n",
       "    .dataframe tbody tr th:only-of-type {\n",
       "        vertical-align: middle;\n",
       "    }\n",
       "\n",
       "    .dataframe tbody tr th {\n",
       "        vertical-align: top;\n",
       "    }\n",
       "\n",
       "    .dataframe thead th {\n",
       "        text-align: right;\n",
       "    }\n",
       "</style>\n",
       "<table border=\"1\" class=\"dataframe\">\n",
       "  <thead>\n",
       "    <tr style=\"text-align: right;\">\n",
       "      <th></th>\n",
       "      <th>Airline</th>\n",
       "      <th>Date_of_Journey</th>\n",
       "      <th>Source</th>\n",
       "      <th>Destination</th>\n",
       "      <th>Route</th>\n",
       "      <th>Dep_Time</th>\n",
       "      <th>Arrival_Time</th>\n",
       "      <th>Duration</th>\n",
       "      <th>Total_Stops</th>\n",
       "      <th>Additional_Info</th>\n",
       "    </tr>\n",
       "  </thead>\n",
       "  <tbody>\n",
       "    <tr>\n",
       "      <th>0</th>\n",
       "      <td>Jet Airways</td>\n",
       "      <td>6/06/2019</td>\n",
       "      <td>Delhi</td>\n",
       "      <td>Cochin</td>\n",
       "      <td>DEL → BOM → COK</td>\n",
       "      <td>17:30</td>\n",
       "      <td>04:25 07 Jun</td>\n",
       "      <td>10h 55m</td>\n",
       "      <td>1 stop</td>\n",
       "      <td>No info</td>\n",
       "    </tr>\n",
       "    <tr>\n",
       "      <th>1</th>\n",
       "      <td>IndiGo</td>\n",
       "      <td>12/05/2019</td>\n",
       "      <td>Kolkata</td>\n",
       "      <td>Banglore</td>\n",
       "      <td>CCU → MAA → BLR</td>\n",
       "      <td>06:20</td>\n",
       "      <td>10:20</td>\n",
       "      <td>4h</td>\n",
       "      <td>1 stop</td>\n",
       "      <td>No info</td>\n",
       "    </tr>\n",
       "    <tr>\n",
       "      <th>2</th>\n",
       "      <td>Jet Airways</td>\n",
       "      <td>21/05/2019</td>\n",
       "      <td>Delhi</td>\n",
       "      <td>Cochin</td>\n",
       "      <td>DEL → BOM → COK</td>\n",
       "      <td>19:15</td>\n",
       "      <td>19:00 22 May</td>\n",
       "      <td>23h 45m</td>\n",
       "      <td>1 stop</td>\n",
       "      <td>In-flight meal not included</td>\n",
       "    </tr>\n",
       "    <tr>\n",
       "      <th>3</th>\n",
       "      <td>Multiple carriers</td>\n",
       "      <td>21/05/2019</td>\n",
       "      <td>Delhi</td>\n",
       "      <td>Cochin</td>\n",
       "      <td>DEL → BOM → COK</td>\n",
       "      <td>08:00</td>\n",
       "      <td>21:00</td>\n",
       "      <td>13h</td>\n",
       "      <td>1 stop</td>\n",
       "      <td>No info</td>\n",
       "    </tr>\n",
       "    <tr>\n",
       "      <th>4</th>\n",
       "      <td>Air Asia</td>\n",
       "      <td>24/06/2019</td>\n",
       "      <td>Banglore</td>\n",
       "      <td>Delhi</td>\n",
       "      <td>BLR → DEL</td>\n",
       "      <td>23:55</td>\n",
       "      <td>02:45 25 Jun</td>\n",
       "      <td>2h 50m</td>\n",
       "      <td>non-stop</td>\n",
       "      <td>No info</td>\n",
       "    </tr>\n",
       "  </tbody>\n",
       "</table>\n",
       "</div>"
      ],
      "text/plain": [
       "             Airline Date_of_Journey    Source Destination            Route  \\\n",
       "0        Jet Airways       6/06/2019     Delhi      Cochin  DEL → BOM → COK   \n",
       "1             IndiGo      12/05/2019   Kolkata    Banglore  CCU → MAA → BLR   \n",
       "2        Jet Airways      21/05/2019     Delhi      Cochin  DEL → BOM → COK   \n",
       "3  Multiple carriers      21/05/2019     Delhi      Cochin  DEL → BOM → COK   \n",
       "4           Air Asia      24/06/2019  Banglore       Delhi        BLR → DEL   \n",
       "\n",
       "  Dep_Time  Arrival_Time Duration Total_Stops              Additional_Info  \n",
       "0    17:30  04:25 07 Jun  10h 55m      1 stop                      No info  \n",
       "1    06:20         10:20       4h      1 stop                      No info  \n",
       "2    19:15  19:00 22 May  23h 45m      1 stop  In-flight meal not included  \n",
       "3    08:00         21:00      13h      1 stop                      No info  \n",
       "4    23:55  02:45 25 Jun   2h 50m    non-stop                      No info  "
      ]
     },
     "execution_count": 39,
     "metadata": {},
     "output_type": "execute_result"
    }
   ],
   "source": [
    "df_test = pd.read_excel('Test_set.xlsx')\n",
    "df_test.head()"
   ]
  },
  {
   "cell_type": "code",
   "execution_count": 40,
   "metadata": {},
   "outputs": [
    {
     "data": {
      "application/javascript": "\n        if (window._pyforest_update_imports_cell) { window._pyforest_update_imports_cell('import pandas as pd\\nimport seaborn as sns\\nimport matplotlib.pyplot as plt'); }\n    ",
      "text/plain": [
       "<IPython.core.display.Javascript object>"
      ]
     },
     "metadata": {},
     "output_type": "display_data"
    },
    {
     "data": {
      "application/javascript": "\n        if (window._pyforest_update_imports_cell) { window._pyforest_update_imports_cell('import pandas as pd\\nimport seaborn as sns\\nimport matplotlib.pyplot as plt'); }\n    ",
      "text/plain": [
       "<IPython.core.display.Javascript object>"
      ]
     },
     "metadata": {},
     "output_type": "display_data"
    },
    {
     "data": {
      "application/javascript": "\n        if (window._pyforest_update_imports_cell) { window._pyforest_update_imports_cell('import pandas as pd\\nimport seaborn as sns\\nimport matplotlib.pyplot as plt'); }\n    ",
      "text/plain": [
       "<IPython.core.display.Javascript object>"
      ]
     },
     "metadata": {},
     "output_type": "display_data"
    },
    {
     "data": {
      "application/javascript": "\n        if (window._pyforest_update_imports_cell) { window._pyforest_update_imports_cell('import pandas as pd\\nimport seaborn as sns\\nimport matplotlib.pyplot as plt'); }\n    ",
      "text/plain": [
       "<IPython.core.display.Javascript object>"
      ]
     },
     "metadata": {},
     "output_type": "display_data"
    },
    {
     "data": {
      "application/javascript": "\n        if (window._pyforest_update_imports_cell) { window._pyforest_update_imports_cell('import pandas as pd\\nimport seaborn as sns\\nimport matplotlib.pyplot as plt'); }\n    ",
      "text/plain": [
       "<IPython.core.display.Javascript object>"
      ]
     },
     "metadata": {},
     "output_type": "display_data"
    },
    {
     "data": {
      "application/javascript": "\n        if (window._pyforest_update_imports_cell) { window._pyforest_update_imports_cell('import pandas as pd\\nimport seaborn as sns\\nimport matplotlib.pyplot as plt'); }\n    ",
      "text/plain": [
       "<IPython.core.display.Javascript object>"
      ]
     },
     "metadata": {},
     "output_type": "display_data"
    },
    {
     "data": {
      "application/javascript": "\n        if (window._pyforest_update_imports_cell) { window._pyforest_update_imports_cell('import pandas as pd\\nimport seaborn as sns\\nimport matplotlib.pyplot as plt'); }\n    ",
      "text/plain": [
       "<IPython.core.display.Javascript object>"
      ]
     },
     "metadata": {},
     "output_type": "display_data"
    },
    {
     "data": {
      "application/javascript": "\n        if (window._pyforest_update_imports_cell) { window._pyforest_update_imports_cell('import pandas as pd\\nimport seaborn as sns\\nimport matplotlib.pyplot as plt'); }\n    ",
      "text/plain": [
       "<IPython.core.display.Javascript object>"
      ]
     },
     "metadata": {},
     "output_type": "display_data"
    }
   ],
   "source": [
    "df_test['Date_of_Journey']=pd.to_datetime(df_test['Date_of_Journey'],format=date_format)\n",
    "df_test['Day_of_Journey']=(df_test['Date_of_Journey']).dt.day\n",
    "df_test['Month_of_Journey']=(df_test['Date_of_Journey']).dt.month\n",
    "\n",
    "#Dep_time \n",
    "df_test['Dep_hr']=pd.to_datetime(df_test['Dep_Time']).dt.hour\n",
    "df_test['Dep_min']=pd.to_datetime(df_test['Dep_Time']).dt.minute\n",
    "\n",
    "#Arrival_time\n",
    "df_test['Arrival_hr']=pd.to_datetime(df_test['Arrival_Time']).dt.hour\n",
    "df_test['Arrival_min']=pd.to_datetime(df_test['Arrival_Time']).dt.minute\n",
    "\n",
    "#Splitting duration  time\n",
    "\n",
    "a=df_test['Duration'].str.split(' ',expand=True)\n",
    "a[1].fillna('00m',inplace=True)\n",
    "df_test['dur_hr']=a[0].apply(lambda x: x[:-1])\n",
    "df_test['dur_min']=a[1].apply(lambda x: x[:-1])\n",
    "\n",
    "#dropping the data\n",
    "df_test.drop(['Date_of_Journey','Duration','Arrival_Time','Dep_Time'],inplace=True,axis=1)\n",
    "\n",
    "#Handling Categorical Values \n",
    "df_test['Total_Stops']=df_test['Total_Stops'].map({'non-stop':0, '2 stops':2, '1 stop':1, '3 stops':3, '4 stops':4})\n",
    "\n",
    "air_dummy=pd.get_dummies(df_test['Airline'],drop_first=True)\n",
    "source_dest_dummy=pd.get_dummies(df_test[['Source','Destination']],drop_first=True)\n",
    "df_test=pd.concat([air_dummy,source_dest_dummy,df_test],axis=1)\n"
   ]
  },
  {
   "cell_type": "code",
   "execution_count": 41,
   "metadata": {},
   "outputs": [
    {
     "data": {
      "text/html": [
       "<div>\n",
       "<style scoped>\n",
       "    .dataframe tbody tr th:only-of-type {\n",
       "        vertical-align: middle;\n",
       "    }\n",
       "\n",
       "    .dataframe tbody tr th {\n",
       "        vertical-align: top;\n",
       "    }\n",
       "\n",
       "    .dataframe thead th {\n",
       "        text-align: right;\n",
       "    }\n",
       "</style>\n",
       "<table border=\"1\" class=\"dataframe\">\n",
       "  <thead>\n",
       "    <tr style=\"text-align: right;\">\n",
       "      <th></th>\n",
       "      <th>Air India</th>\n",
       "      <th>GoAir</th>\n",
       "      <th>IndiGo</th>\n",
       "      <th>Jet Airways</th>\n",
       "      <th>Jet Airways Business</th>\n",
       "      <th>Multiple carriers</th>\n",
       "      <th>Multiple carriers Premium economy</th>\n",
       "      <th>SpiceJet</th>\n",
       "      <th>Trujet</th>\n",
       "      <th>Vistara</th>\n",
       "      <th>...</th>\n",
       "      <th>Additional_Info</th>\n",
       "      <th>Price</th>\n",
       "      <th>day_of_journey</th>\n",
       "      <th>month_of_journey</th>\n",
       "      <th>dep_hour</th>\n",
       "      <th>dep_minute</th>\n",
       "      <th>Arrival_hour</th>\n",
       "      <th>Arrival_minute</th>\n",
       "      <th>Duration_hour</th>\n",
       "      <th>Duration_min</th>\n",
       "    </tr>\n",
       "  </thead>\n",
       "  <tbody>\n",
       "    <tr>\n",
       "      <th>0</th>\n",
       "      <td>0</td>\n",
       "      <td>0</td>\n",
       "      <td>1</td>\n",
       "      <td>0</td>\n",
       "      <td>0</td>\n",
       "      <td>0</td>\n",
       "      <td>0</td>\n",
       "      <td>0</td>\n",
       "      <td>0</td>\n",
       "      <td>0</td>\n",
       "      <td>...</td>\n",
       "      <td>No info</td>\n",
       "      <td>3897</td>\n",
       "      <td>24</td>\n",
       "      <td>3</td>\n",
       "      <td>22</td>\n",
       "      <td>20</td>\n",
       "      <td>1</td>\n",
       "      <td>10</td>\n",
       "      <td>2</td>\n",
       "      <td>50</td>\n",
       "    </tr>\n",
       "    <tr>\n",
       "      <th>1</th>\n",
       "      <td>1</td>\n",
       "      <td>0</td>\n",
       "      <td>0</td>\n",
       "      <td>0</td>\n",
       "      <td>0</td>\n",
       "      <td>0</td>\n",
       "      <td>0</td>\n",
       "      <td>0</td>\n",
       "      <td>0</td>\n",
       "      <td>0</td>\n",
       "      <td>...</td>\n",
       "      <td>No info</td>\n",
       "      <td>7662</td>\n",
       "      <td>1</td>\n",
       "      <td>5</td>\n",
       "      <td>5</td>\n",
       "      <td>50</td>\n",
       "      <td>13</td>\n",
       "      <td>15</td>\n",
       "      <td>7</td>\n",
       "      <td>25</td>\n",
       "    </tr>\n",
       "    <tr>\n",
       "      <th>2</th>\n",
       "      <td>0</td>\n",
       "      <td>0</td>\n",
       "      <td>0</td>\n",
       "      <td>1</td>\n",
       "      <td>0</td>\n",
       "      <td>0</td>\n",
       "      <td>0</td>\n",
       "      <td>0</td>\n",
       "      <td>0</td>\n",
       "      <td>0</td>\n",
       "      <td>...</td>\n",
       "      <td>No info</td>\n",
       "      <td>13882</td>\n",
       "      <td>9</td>\n",
       "      <td>6</td>\n",
       "      <td>9</td>\n",
       "      <td>25</td>\n",
       "      <td>4</td>\n",
       "      <td>25</td>\n",
       "      <td>19</td>\n",
       "      <td>00</td>\n",
       "    </tr>\n",
       "    <tr>\n",
       "      <th>3</th>\n",
       "      <td>0</td>\n",
       "      <td>0</td>\n",
       "      <td>1</td>\n",
       "      <td>0</td>\n",
       "      <td>0</td>\n",
       "      <td>0</td>\n",
       "      <td>0</td>\n",
       "      <td>0</td>\n",
       "      <td>0</td>\n",
       "      <td>0</td>\n",
       "      <td>...</td>\n",
       "      <td>No info</td>\n",
       "      <td>6218</td>\n",
       "      <td>12</td>\n",
       "      <td>5</td>\n",
       "      <td>18</td>\n",
       "      <td>5</td>\n",
       "      <td>23</td>\n",
       "      <td>30</td>\n",
       "      <td>5</td>\n",
       "      <td>25</td>\n",
       "    </tr>\n",
       "    <tr>\n",
       "      <th>4</th>\n",
       "      <td>0</td>\n",
       "      <td>0</td>\n",
       "      <td>1</td>\n",
       "      <td>0</td>\n",
       "      <td>0</td>\n",
       "      <td>0</td>\n",
       "      <td>0</td>\n",
       "      <td>0</td>\n",
       "      <td>0</td>\n",
       "      <td>0</td>\n",
       "      <td>...</td>\n",
       "      <td>No info</td>\n",
       "      <td>13302</td>\n",
       "      <td>1</td>\n",
       "      <td>3</td>\n",
       "      <td>16</td>\n",
       "      <td>50</td>\n",
       "      <td>21</td>\n",
       "      <td>35</td>\n",
       "      <td>4</td>\n",
       "      <td>45</td>\n",
       "    </tr>\n",
       "  </tbody>\n",
       "</table>\n",
       "<p>5 rows × 31 columns</p>\n",
       "</div>"
      ],
      "text/plain": [
       "   Air India  GoAir  IndiGo  Jet Airways  Jet Airways Business  \\\n",
       "0          0      0       1            0                     0   \n",
       "1          1      0       0            0                     0   \n",
       "2          0      0       0            1                     0   \n",
       "3          0      0       1            0                     0   \n",
       "4          0      0       1            0                     0   \n",
       "\n",
       "   Multiple carriers  Multiple carriers Premium economy  SpiceJet  Trujet  \\\n",
       "0                  0                                  0         0       0   \n",
       "1                  0                                  0         0       0   \n",
       "2                  0                                  0         0       0   \n",
       "3                  0                                  0         0       0   \n",
       "4                  0                                  0         0       0   \n",
       "\n",
       "   Vistara  ...  Additional_Info  Price  day_of_journey  month_of_journey  \\\n",
       "0        0  ...          No info   3897              24                 3   \n",
       "1        0  ...          No info   7662               1                 5   \n",
       "2        0  ...          No info  13882               9                 6   \n",
       "3        0  ...          No info   6218              12                 5   \n",
       "4        0  ...          No info  13302               1                 3   \n",
       "\n",
       "   dep_hour  dep_minute  Arrival_hour  Arrival_minute  Duration_hour  \\\n",
       "0        22          20             1              10              2   \n",
       "1         5          50            13              15              7   \n",
       "2         9          25             4              25             19   \n",
       "3        18           5            23              30              5   \n",
       "4        16          50            21              35              4   \n",
       "\n",
       "  Duration_min  \n",
       "0           50  \n",
       "1           25  \n",
       "2           00  \n",
       "3           25  \n",
       "4           45  \n",
       "\n",
       "[5 rows x 31 columns]"
      ]
     },
     "execution_count": 41,
     "metadata": {},
     "output_type": "execute_result"
    }
   ],
   "source": [
    "df.head()"
   ]
  },
  {
   "cell_type": "code",
   "execution_count": 42,
   "metadata": {},
   "outputs": [],
   "source": [
    "df_test.drop(['Airline','Source','Destination','Additional_Info',\"Route\"],inplace=True,axis=1)"
   ]
  },
  {
   "cell_type": "code",
   "execution_count": 43,
   "metadata": {},
   "outputs": [
    {
     "name": "stdout",
     "output_type": "stream",
     "text": [
      "train shape (10682, 31)\n",
      "test shape (2671, 28)\n"
     ]
    }
   ],
   "source": [
    "print('train shape',df.shape)\n",
    "print('test shape',df_test.shape)"
   ]
  },
  {
   "cell_type": "code",
   "execution_count": 44,
   "metadata": {},
   "outputs": [
    {
     "data": {
      "text/plain": [
       "Index(['Air India', 'GoAir', 'IndiGo', 'Jet Airways', 'Jet Airways Business',\n",
       "       'Multiple carriers', 'Multiple carriers Premium economy', 'SpiceJet',\n",
       "       'Trujet', 'Vistara', 'Vistara Premium economy', 'Source_Chennai',\n",
       "       'Source_Delhi', 'Source_Kolkata', 'Source_Mumbai', 'Destination_Cochin',\n",
       "       'Destination_Delhi', 'Destination_Hyderabad', 'Destination_Kolkata',\n",
       "       'Route', 'Total_Stops', 'Additional_Info', 'Price', 'day_of_journey',\n",
       "       'month_of_journey', 'dep_hour', 'dep_minute', 'Arrival_hour',\n",
       "       'Arrival_minute', 'Duration_hour', 'Duration_min'],\n",
       "      dtype='object')"
      ]
     },
     "execution_count": 44,
     "metadata": {},
     "output_type": "execute_result"
    }
   ],
   "source": [
    "df.columns"
   ]
  },
  {
   "attachments": {},
   "cell_type": "markdown",
   "metadata": {},
   "source": [
    "# model building \n"
   ]
  },
  {
   "cell_type": "code",
   "execution_count": 45,
   "metadata": {},
   "outputs": [],
   "source": [
    "x=df.drop(['Route', 'Price','Additional_Info'],axis=1)\n",
    "y=df['Price']"
   ]
  },
  {
   "cell_type": "code",
   "execution_count": 46,
   "metadata": {},
   "outputs": [
    {
     "data": {
      "application/javascript": "\n        if (window._pyforest_update_imports_cell) { window._pyforest_update_imports_cell('import pandas as pd\\nimport seaborn as sns\\nfrom sklearn.model_selection import train_test_split\\nimport matplotlib.pyplot as plt'); }\n    ",
      "text/plain": [
       "<IPython.core.display.Javascript object>"
      ]
     },
     "metadata": {},
     "output_type": "display_data"
    }
   ],
   "source": [
    "X_train,x_test,y_train,y_test = train_test_split(x,y,random_state =50,test_size = 0.2)"
   ]
  },
  {
   "cell_type": "code",
   "execution_count": 47,
   "metadata": {},
   "outputs": [
    {
     "name": "stdout",
     "output_type": "stream",
     "text": [
      "Learning rate set to 0.057463\n",
      "0:\tlearn: 4496.0523487\ttotal: 147ms\tremaining: 2m 26s\n",
      "1:\tlearn: 4369.0922944\ttotal: 151ms\tremaining: 1m 15s\n",
      "2:\tlearn: 4222.9149833\ttotal: 154ms\tremaining: 51.2s\n",
      "3:\tlearn: 4094.5526402\ttotal: 158ms\tremaining: 39.4s\n",
      "4:\tlearn: 3998.8191754\ttotal: 161ms\tremaining: 32s\n",
      "5:\tlearn: 3885.0374172\ttotal: 163ms\tremaining: 27s\n",
      "6:\tlearn: 3788.6739639\ttotal: 165ms\tremaining: 23.5s\n",
      "7:\tlearn: 3685.7693823\ttotal: 168ms\tremaining: 20.9s\n",
      "8:\tlearn: 3590.0439987\ttotal: 172ms\tremaining: 18.9s\n",
      "9:\tlearn: 3497.0962396\ttotal: 178ms\tremaining: 17.6s\n",
      "10:\tlearn: 3408.4880882\ttotal: 184ms\tremaining: 16.5s\n",
      "11:\tlearn: 3336.0744830\ttotal: 187ms\tremaining: 15.4s\n",
      "12:\tlearn: 3276.4890996\ttotal: 192ms\tremaining: 14.6s\n",
      "13:\tlearn: 3206.6669062\ttotal: 195ms\tremaining: 13.7s\n",
      "14:\tlearn: 3139.5487006\ttotal: 199ms\tremaining: 13.1s\n",
      "15:\tlearn: 3078.9711715\ttotal: 203ms\tremaining: 12.5s\n",
      "16:\tlearn: 3032.9305092\ttotal: 211ms\tremaining: 12.2s\n",
      "17:\tlearn: 2992.7817297\ttotal: 215ms\tremaining: 11.7s\n",
      "18:\tlearn: 2957.5970962\ttotal: 218ms\tremaining: 11.2s\n",
      "19:\tlearn: 2921.4233947\ttotal: 222ms\tremaining: 10.9s\n",
      "20:\tlearn: 2888.3562936\ttotal: 225ms\tremaining: 10.5s\n",
      "21:\tlearn: 2842.8771213\ttotal: 229ms\tremaining: 10.2s\n",
      "22:\tlearn: 2811.0503308\ttotal: 234ms\tremaining: 9.95s\n",
      "23:\tlearn: 2775.5807610\ttotal: 241ms\tremaining: 9.79s\n",
      "24:\tlearn: 2741.3239475\ttotal: 245ms\tremaining: 9.55s\n",
      "25:\tlearn: 2708.1488674\ttotal: 248ms\tremaining: 9.29s\n",
      "26:\tlearn: 2680.6216771\ttotal: 250ms\tremaining: 9.02s\n",
      "27:\tlearn: 2657.9956287\ttotal: 254ms\tremaining: 8.82s\n",
      "28:\tlearn: 2634.1759002\ttotal: 257ms\tremaining: 8.6s\n",
      "29:\tlearn: 2616.4698779\ttotal: 260ms\tremaining: 8.4s\n",
      "30:\tlearn: 2594.2748142\ttotal: 262ms\tremaining: 8.2s\n",
      "31:\tlearn: 2577.6715715\ttotal: 265ms\tremaining: 8.02s\n",
      "32:\tlearn: 2556.5316785\ttotal: 268ms\tremaining: 7.85s\n",
      "33:\tlearn: 2543.0648259\ttotal: 272ms\tremaining: 7.74s\n",
      "34:\tlearn: 2527.1515399\ttotal: 278ms\tremaining: 7.67s\n",
      "35:\tlearn: 2514.4132114\ttotal: 284ms\tremaining: 7.6s\n",
      "36:\tlearn: 2494.2612689\ttotal: 288ms\tremaining: 7.48s\n",
      "37:\tlearn: 2474.4535033\ttotal: 290ms\tremaining: 7.34s\n",
      "38:\tlearn: 2457.8330648\ttotal: 292ms\tremaining: 7.19s\n",
      "39:\tlearn: 2444.2856161\ttotal: 295ms\tremaining: 7.08s\n",
      "40:\tlearn: 2432.9738826\ttotal: 297ms\tremaining: 6.95s\n",
      "41:\tlearn: 2422.6965291\ttotal: 301ms\tremaining: 6.87s\n",
      "42:\tlearn: 2414.5904179\ttotal: 305ms\tremaining: 6.78s\n",
      "43:\tlearn: 2405.1452898\ttotal: 308ms\tremaining: 6.69s\n",
      "44:\tlearn: 2389.0886584\ttotal: 310ms\tremaining: 6.58s\n",
      "45:\tlearn: 2380.3072427\ttotal: 312ms\tremaining: 6.47s\n",
      "46:\tlearn: 2363.5813640\ttotal: 316ms\tremaining: 6.41s\n",
      "47:\tlearn: 2352.9129651\ttotal: 319ms\tremaining: 6.33s\n",
      "48:\tlearn: 2347.8599544\ttotal: 321ms\tremaining: 6.24s\n",
      "49:\tlearn: 2336.4305032\ttotal: 323ms\tremaining: 6.14s\n",
      "50:\tlearn: 2332.3064625\ttotal: 326ms\tremaining: 6.06s\n",
      "51:\tlearn: 2319.8954996\ttotal: 328ms\tremaining: 5.97s\n",
      "52:\tlearn: 2311.7551881\ttotal: 333ms\tremaining: 5.94s\n",
      "53:\tlearn: 2302.1195049\ttotal: 335ms\tremaining: 5.87s\n",
      "54:\tlearn: 2298.6293814\ttotal: 338ms\tremaining: 5.8s\n",
      "55:\tlearn: 2294.8019293\ttotal: 340ms\tremaining: 5.73s\n",
      "56:\tlearn: 2286.1991967\ttotal: 342ms\tremaining: 5.66s\n",
      "57:\tlearn: 2281.7213769\ttotal: 344ms\tremaining: 5.59s\n",
      "58:\tlearn: 2276.7264759\ttotal: 348ms\tremaining: 5.55s\n",
      "59:\tlearn: 2265.9869275\ttotal: 351ms\tremaining: 5.5s\n",
      "60:\tlearn: 2256.6707867\ttotal: 354ms\tremaining: 5.46s\n",
      "61:\tlearn: 2252.3772544\ttotal: 357ms\tremaining: 5.39s\n",
      "62:\tlearn: 2245.4823585\ttotal: 359ms\tremaining: 5.33s\n",
      "63:\tlearn: 2238.7571712\ttotal: 362ms\tremaining: 5.29s\n",
      "64:\tlearn: 2233.8567247\ttotal: 364ms\tremaining: 5.23s\n",
      "65:\tlearn: 2229.8655720\ttotal: 366ms\tremaining: 5.18s\n",
      "66:\tlearn: 2221.7301370\ttotal: 368ms\tremaining: 5.13s\n",
      "67:\tlearn: 2215.1829898\ttotal: 370ms\tremaining: 5.07s\n",
      "68:\tlearn: 2209.1199113\ttotal: 372ms\tremaining: 5.02s\n",
      "69:\tlearn: 2203.8917780\ttotal: 375ms\tremaining: 4.98s\n",
      "70:\tlearn: 2201.0165239\ttotal: 378ms\tremaining: 4.94s\n",
      "71:\tlearn: 2198.4903212\ttotal: 380ms\tremaining: 4.89s\n",
      "72:\tlearn: 2194.2639849\ttotal: 382ms\tremaining: 4.85s\n",
      "73:\tlearn: 2190.0014137\ttotal: 384ms\tremaining: 4.8s\n",
      "74:\tlearn: 2185.9276243\ttotal: 386ms\tremaining: 4.76s\n",
      "75:\tlearn: 2183.5338503\ttotal: 388ms\tremaining: 4.72s\n",
      "76:\tlearn: 2177.3961365\ttotal: 391ms\tremaining: 4.68s\n",
      "77:\tlearn: 2172.6597661\ttotal: 394ms\tremaining: 4.66s\n",
      "78:\tlearn: 2167.6812440\ttotal: 396ms\tremaining: 4.62s\n",
      "79:\tlearn: 2164.6554198\ttotal: 398ms\tremaining: 4.58s\n",
      "80:\tlearn: 2161.1995662\ttotal: 400ms\tremaining: 4.54s\n",
      "81:\tlearn: 2157.7931055\ttotal: 403ms\tremaining: 4.51s\n",
      "82:\tlearn: 2151.0081880\ttotal: 405ms\tremaining: 4.47s\n",
      "83:\tlearn: 2148.4377648\ttotal: 408ms\tremaining: 4.45s\n",
      "84:\tlearn: 2140.7275377\ttotal: 411ms\tremaining: 4.42s\n",
      "85:\tlearn: 2138.2693673\ttotal: 413ms\tremaining: 4.39s\n",
      "86:\tlearn: 2133.3611292\ttotal: 416ms\tremaining: 4.36s\n",
      "87:\tlearn: 2130.3269338\ttotal: 418ms\tremaining: 4.33s\n",
      "88:\tlearn: 2126.7137344\ttotal: 420ms\tremaining: 4.3s\n",
      "89:\tlearn: 2124.7002148\ttotal: 423ms\tremaining: 4.27s\n",
      "90:\tlearn: 2120.5884066\ttotal: 425ms\tremaining: 4.25s\n",
      "91:\tlearn: 2118.9974811\ttotal: 430ms\tremaining: 4.24s\n",
      "92:\tlearn: 2115.7575319\ttotal: 432ms\tremaining: 4.21s\n",
      "93:\tlearn: 2111.7534246\ttotal: 435ms\tremaining: 4.2s\n",
      "94:\tlearn: 2109.4749827\ttotal: 441ms\tremaining: 4.2s\n",
      "95:\tlearn: 2105.9838353\ttotal: 443ms\tremaining: 4.17s\n",
      "96:\tlearn: 2102.4334078\ttotal: 447ms\tremaining: 4.16s\n",
      "97:\tlearn: 2097.5479318\ttotal: 451ms\tremaining: 4.15s\n",
      "98:\tlearn: 2095.0296447\ttotal: 454ms\tremaining: 4.13s\n",
      "99:\tlearn: 2093.1742638\ttotal: 459ms\tremaining: 4.13s\n",
      "100:\tlearn: 2088.5791516\ttotal: 462ms\tremaining: 4.11s\n",
      "101:\tlearn: 2086.8798302\ttotal: 465ms\tremaining: 4.1s\n",
      "102:\tlearn: 2082.8270322\ttotal: 469ms\tremaining: 4.08s\n",
      "103:\tlearn: 2078.6491427\ttotal: 473ms\tremaining: 4.08s\n",
      "104:\tlearn: 2076.3767024\ttotal: 479ms\tremaining: 4.08s\n",
      "105:\tlearn: 2072.3688456\ttotal: 481ms\tremaining: 4.06s\n",
      "106:\tlearn: 2070.3159399\ttotal: 486ms\tremaining: 4.05s\n",
      "107:\tlearn: 2066.7799547\ttotal: 490ms\tremaining: 4.05s\n",
      "108:\tlearn: 2064.1214325\ttotal: 493ms\tremaining: 4.03s\n",
      "109:\tlearn: 2059.9479482\ttotal: 496ms\tremaining: 4.01s\n",
      "110:\tlearn: 2056.7117412\ttotal: 502ms\tremaining: 4.02s\n",
      "111:\tlearn: 2052.9479742\ttotal: 506ms\tremaining: 4.01s\n",
      "112:\tlearn: 2048.6984621\ttotal: 508ms\tremaining: 3.99s\n",
      "113:\tlearn: 2045.4373051\ttotal: 511ms\tremaining: 3.97s\n",
      "114:\tlearn: 2042.6049644\ttotal: 513ms\tremaining: 3.95s\n",
      "115:\tlearn: 2040.9020902\ttotal: 518ms\tremaining: 3.94s\n",
      "116:\tlearn: 2037.4977110\ttotal: 521ms\tremaining: 3.93s\n",
      "117:\tlearn: 2033.6910245\ttotal: 523ms\tremaining: 3.91s\n",
      "118:\tlearn: 2030.7750002\ttotal: 525ms\tremaining: 3.89s\n",
      "119:\tlearn: 2029.4671724\ttotal: 528ms\tremaining: 3.87s\n",
      "120:\tlearn: 2023.6267761\ttotal: 534ms\tremaining: 3.88s\n",
      "121:\tlearn: 2020.1829211\ttotal: 538ms\tremaining: 3.87s\n",
      "122:\tlearn: 2017.3597986\ttotal: 541ms\tremaining: 3.85s\n",
      "123:\tlearn: 2014.9085706\ttotal: 543ms\tremaining: 3.84s\n",
      "124:\tlearn: 2012.1448126\ttotal: 545ms\tremaining: 3.82s\n",
      "125:\tlearn: 2009.1467931\ttotal: 549ms\tremaining: 3.81s\n",
      "126:\tlearn: 2008.9465383\ttotal: 551ms\tremaining: 3.79s\n",
      "127:\tlearn: 2006.7394967\ttotal: 553ms\tremaining: 3.77s\n",
      "128:\tlearn: 2004.1974604\ttotal: 556ms\tremaining: 3.75s\n",
      "129:\tlearn: 2002.2389208\ttotal: 558ms\tremaining: 3.73s\n",
      "130:\tlearn: 2000.9697602\ttotal: 560ms\tremaining: 3.71s\n",
      "131:\tlearn: 1999.9885521\ttotal: 564ms\tremaining: 3.71s\n",
      "132:\tlearn: 1998.1823484\ttotal: 566ms\tremaining: 3.69s\n",
      "133:\tlearn: 1995.9290462\ttotal: 568ms\tremaining: 3.67s\n",
      "134:\tlearn: 1993.6501994\ttotal: 571ms\tremaining: 3.66s\n",
      "135:\tlearn: 1991.9683661\ttotal: 573ms\tremaining: 3.64s\n",
      "136:\tlearn: 1990.8395623\ttotal: 576ms\tremaining: 3.63s\n",
      "137:\tlearn: 1989.3466744\ttotal: 580ms\tremaining: 3.62s\n",
      "138:\tlearn: 1986.7127514\ttotal: 582ms\tremaining: 3.6s\n",
      "139:\tlearn: 1985.0314824\ttotal: 584ms\tremaining: 3.59s\n",
      "140:\tlearn: 1983.9256428\ttotal: 587ms\tremaining: 3.58s\n",
      "141:\tlearn: 1982.6897426\ttotal: 589ms\tremaining: 3.56s\n",
      "142:\tlearn: 1981.1539948\ttotal: 591ms\tremaining: 3.54s\n",
      "143:\tlearn: 1979.3500379\ttotal: 595ms\tremaining: 3.53s\n",
      "144:\tlearn: 1977.5919443\ttotal: 597ms\tremaining: 3.52s\n",
      "145:\tlearn: 1974.5590256\ttotal: 600ms\tremaining: 3.51s\n",
      "146:\tlearn: 1971.7358497\ttotal: 603ms\tremaining: 3.5s\n",
      "147:\tlearn: 1968.7653110\ttotal: 605ms\tremaining: 3.48s\n",
      "148:\tlearn: 1966.9453785\ttotal: 607ms\tremaining: 3.47s\n",
      "149:\tlearn: 1964.0062079\ttotal: 610ms\tremaining: 3.46s\n",
      "150:\tlearn: 1962.1826930\ttotal: 613ms\tremaining: 3.44s\n",
      "151:\tlearn: 1960.1160513\ttotal: 615ms\tremaining: 3.43s\n",
      "152:\tlearn: 1959.0688962\ttotal: 618ms\tremaining: 3.42s\n",
      "153:\tlearn: 1958.4207339\ttotal: 622ms\tremaining: 3.41s\n",
      "154:\tlearn: 1956.8772770\ttotal: 625ms\tremaining: 3.41s\n",
      "155:\tlearn: 1955.8365432\ttotal: 630ms\tremaining: 3.4s\n",
      "156:\tlearn: 1954.9754258\ttotal: 634ms\tremaining: 3.4s\n",
      "157:\tlearn: 1953.3703959\ttotal: 637ms\tremaining: 3.4s\n",
      "158:\tlearn: 1951.5178499\ttotal: 640ms\tremaining: 3.38s\n",
      "159:\tlearn: 1950.3085974\ttotal: 646ms\tremaining: 3.39s\n",
      "160:\tlearn: 1949.4276958\ttotal: 648ms\tremaining: 3.38s\n",
      "161:\tlearn: 1946.9900793\ttotal: 650ms\tremaining: 3.36s\n",
      "162:\tlearn: 1944.2811407\ttotal: 653ms\tremaining: 3.35s\n",
      "163:\tlearn: 1941.2477948\ttotal: 656ms\tremaining: 3.35s\n",
      "164:\tlearn: 1939.3080745\ttotal: 660ms\tremaining: 3.34s\n",
      "165:\tlearn: 1938.2703094\ttotal: 664ms\tremaining: 3.33s\n",
      "166:\tlearn: 1935.0164909\ttotal: 666ms\tremaining: 3.32s\n",
      "167:\tlearn: 1933.3097127\ttotal: 668ms\tremaining: 3.31s\n",
      "168:\tlearn: 1930.5488814\ttotal: 672ms\tremaining: 3.3s\n",
      "169:\tlearn: 1929.2421227\ttotal: 675ms\tremaining: 3.29s\n",
      "170:\tlearn: 1927.5000891\ttotal: 677ms\tremaining: 3.28s\n",
      "171:\tlearn: 1924.5404142\ttotal: 680ms\tremaining: 3.27s\n",
      "172:\tlearn: 1921.8692681\ttotal: 682ms\tremaining: 3.26s\n",
      "173:\tlearn: 1919.5392282\ttotal: 684ms\tremaining: 3.25s\n",
      "174:\tlearn: 1917.3273013\ttotal: 688ms\tremaining: 3.24s\n",
      "175:\tlearn: 1914.2393606\ttotal: 690ms\tremaining: 3.23s\n",
      "176:\tlearn: 1913.2906386\ttotal: 693ms\tremaining: 3.22s\n",
      "177:\tlearn: 1911.8509775\ttotal: 695ms\tremaining: 3.21s\n",
      "178:\tlearn: 1909.4751964\ttotal: 697ms\tremaining: 3.2s\n",
      "179:\tlearn: 1908.7718105\ttotal: 700ms\tremaining: 3.19s\n",
      "180:\tlearn: 1907.1794032\ttotal: 703ms\tremaining: 3.18s\n",
      "181:\tlearn: 1906.1220460\ttotal: 706ms\tremaining: 3.17s\n",
      "182:\tlearn: 1904.4248448\ttotal: 708ms\tremaining: 3.16s\n",
      "183:\tlearn: 1902.5339807\ttotal: 710ms\tremaining: 3.15s\n",
      "184:\tlearn: 1900.6678755\ttotal: 713ms\tremaining: 3.14s\n",
      "185:\tlearn: 1898.8350283\ttotal: 715ms\tremaining: 3.13s\n",
      "186:\tlearn: 1898.0084903\ttotal: 718ms\tremaining: 3.12s\n",
      "187:\tlearn: 1896.4592905\ttotal: 721ms\tremaining: 3.12s\n",
      "188:\tlearn: 1895.2108060\ttotal: 725ms\tremaining: 3.11s\n",
      "189:\tlearn: 1892.2778777\ttotal: 727ms\tremaining: 3.1s\n",
      "190:\tlearn: 1891.1653179\ttotal: 730ms\tremaining: 3.09s\n",
      "191:\tlearn: 1889.3408025\ttotal: 732ms\tremaining: 3.08s\n",
      "192:\tlearn: 1888.9072533\ttotal: 737ms\tremaining: 3.08s\n",
      "193:\tlearn: 1888.1185021\ttotal: 739ms\tremaining: 3.07s\n",
      "194:\tlearn: 1887.3643640\ttotal: 742ms\tremaining: 3.06s\n",
      "195:\tlearn: 1886.6513518\ttotal: 744ms\tremaining: 3.05s\n",
      "196:\tlearn: 1884.1681157\ttotal: 747ms\tremaining: 3.04s\n",
      "197:\tlearn: 1883.5114928\ttotal: 751ms\tremaining: 3.04s\n",
      "198:\tlearn: 1881.9149780\ttotal: 754ms\tremaining: 3.03s\n",
      "199:\tlearn: 1880.1944138\ttotal: 756ms\tremaining: 3.02s\n",
      "200:\tlearn: 1879.5806351\ttotal: 759ms\tremaining: 3.02s\n",
      "201:\tlearn: 1879.3446705\ttotal: 763ms\tremaining: 3.02s\n",
      "202:\tlearn: 1877.1196269\ttotal: 766ms\tremaining: 3.01s\n",
      "203:\tlearn: 1876.3861180\ttotal: 769ms\tremaining: 3s\n",
      "204:\tlearn: 1875.9511720\ttotal: 771ms\tremaining: 2.99s\n",
      "205:\tlearn: 1875.3259678\ttotal: 773ms\tremaining: 2.98s\n",
      "206:\tlearn: 1874.5499545\ttotal: 778ms\tremaining: 2.98s\n",
      "207:\tlearn: 1873.8222753\ttotal: 781ms\tremaining: 2.97s\n",
      "208:\tlearn: 1873.5040225\ttotal: 783ms\tremaining: 2.96s\n",
      "209:\tlearn: 1871.7856930\ttotal: 786ms\tremaining: 2.96s\n",
      "210:\tlearn: 1871.6466482\ttotal: 788ms\tremaining: 2.95s\n",
      "211:\tlearn: 1871.4862323\ttotal: 792ms\tremaining: 2.94s\n",
      "212:\tlearn: 1870.3709298\ttotal: 795ms\tremaining: 2.94s\n",
      "213:\tlearn: 1868.9847576\ttotal: 799ms\tremaining: 2.93s\n",
      "214:\tlearn: 1867.8427628\ttotal: 801ms\tremaining: 2.92s\n",
      "215:\tlearn: 1867.5869507\ttotal: 803ms\tremaining: 2.92s\n",
      "216:\tlearn: 1866.1474665\ttotal: 808ms\tremaining: 2.92s\n",
      "217:\tlearn: 1865.8045837\ttotal: 812ms\tremaining: 2.91s\n",
      "218:\tlearn: 1864.3366439\ttotal: 815ms\tremaining: 2.9s\n",
      "219:\tlearn: 1862.4622002\ttotal: 817ms\tremaining: 2.9s\n",
      "220:\tlearn: 1861.0086967\ttotal: 820ms\tremaining: 2.89s\n",
      "221:\tlearn: 1860.0676856\ttotal: 823ms\tremaining: 2.88s\n",
      "222:\tlearn: 1859.9684427\ttotal: 828ms\tremaining: 2.88s\n",
      "223:\tlearn: 1859.8038226\ttotal: 832ms\tremaining: 2.88s\n",
      "224:\tlearn: 1859.4561770\ttotal: 835ms\tremaining: 2.88s\n",
      "225:\tlearn: 1859.2963582\ttotal: 839ms\tremaining: 2.87s\n",
      "226:\tlearn: 1857.6963157\ttotal: 844ms\tremaining: 2.87s\n",
      "227:\tlearn: 1857.5931661\ttotal: 847ms\tremaining: 2.87s\n",
      "228:\tlearn: 1856.1171726\ttotal: 849ms\tremaining: 2.86s\n",
      "229:\tlearn: 1854.6614709\ttotal: 851ms\tremaining: 2.85s\n",
      "230:\tlearn: 1852.8473753\ttotal: 857ms\tremaining: 2.85s\n",
      "231:\tlearn: 1852.7496795\ttotal: 859ms\tremaining: 2.84s\n",
      "232:\tlearn: 1852.7048457\ttotal: 861ms\tremaining: 2.83s\n",
      "233:\tlearn: 1852.2335827\ttotal: 863ms\tremaining: 2.83s\n",
      "234:\tlearn: 1852.1919152\ttotal: 865ms\tremaining: 2.82s\n",
      "235:\tlearn: 1849.8400881\ttotal: 868ms\tremaining: 2.81s\n",
      "236:\tlearn: 1848.0991126\ttotal: 872ms\tremaining: 2.81s\n",
      "237:\tlearn: 1848.0370617\ttotal: 874ms\tremaining: 2.8s\n",
      "238:\tlearn: 1846.6956695\ttotal: 876ms\tremaining: 2.79s\n",
      "239:\tlearn: 1845.0478117\ttotal: 878ms\tremaining: 2.78s\n",
      "240:\tlearn: 1844.8947638\ttotal: 881ms\tremaining: 2.77s\n",
      "241:\tlearn: 1843.6092726\ttotal: 883ms\tremaining: 2.77s\n",
      "242:\tlearn: 1843.5703118\ttotal: 886ms\tremaining: 2.76s\n",
      "243:\tlearn: 1841.5957660\ttotal: 889ms\tremaining: 2.75s\n",
      "244:\tlearn: 1840.0440031\ttotal: 891ms\tremaining: 2.75s\n",
      "245:\tlearn: 1836.8608236\ttotal: 893ms\tremaining: 2.74s\n",
      "246:\tlearn: 1835.4059371\ttotal: 897ms\tremaining: 2.73s\n",
      "247:\tlearn: 1833.9482580\ttotal: 900ms\tremaining: 2.73s\n",
      "248:\tlearn: 1831.8706224\ttotal: 903ms\tremaining: 2.72s\n",
      "249:\tlearn: 1830.1670388\ttotal: 905ms\tremaining: 2.71s\n",
      "250:\tlearn: 1828.8968665\ttotal: 907ms\tremaining: 2.71s\n",
      "251:\tlearn: 1828.8602681\ttotal: 909ms\tremaining: 2.7s\n",
      "252:\tlearn: 1826.3398697\ttotal: 912ms\tremaining: 2.69s\n",
      "253:\tlearn: 1826.1285687\ttotal: 913ms\tremaining: 2.68s\n",
      "254:\tlearn: 1824.3625816\ttotal: 917ms\tremaining: 2.68s\n",
      "255:\tlearn: 1821.8535091\ttotal: 920ms\tremaining: 2.67s\n",
      "256:\tlearn: 1820.0322439\ttotal: 922ms\tremaining: 2.67s\n",
      "257:\tlearn: 1819.9449236\ttotal: 925ms\tremaining: 2.66s\n",
      "258:\tlearn: 1818.2308420\ttotal: 927ms\tremaining: 2.65s\n",
      "259:\tlearn: 1816.7779611\ttotal: 929ms\tremaining: 2.64s\n",
      "260:\tlearn: 1814.8442822\ttotal: 934ms\tremaining: 2.64s\n",
      "261:\tlearn: 1814.8129522\ttotal: 936ms\tremaining: 2.64s\n",
      "262:\tlearn: 1813.3080810\ttotal: 938ms\tremaining: 2.63s\n",
      "263:\tlearn: 1810.9509907\ttotal: 941ms\tremaining: 2.62s\n",
      "264:\tlearn: 1809.5016433\ttotal: 943ms\tremaining: 2.62s\n",
      "265:\tlearn: 1808.3637999\ttotal: 946ms\tremaining: 2.61s\n",
      "266:\tlearn: 1806.9077964\ttotal: 949ms\tremaining: 2.6s\n",
      "267:\tlearn: 1806.4048784\ttotal: 951ms\tremaining: 2.6s\n",
      "268:\tlearn: 1806.3289756\ttotal: 953ms\tremaining: 2.59s\n",
      "269:\tlearn: 1805.1626866\ttotal: 955ms\tremaining: 2.58s\n",
      "270:\tlearn: 1803.6716914\ttotal: 957ms\tremaining: 2.58s\n",
      "271:\tlearn: 1803.6419068\ttotal: 959ms\tremaining: 2.57s\n",
      "272:\tlearn: 1803.6135192\ttotal: 962ms\tremaining: 2.56s\n",
      "273:\tlearn: 1801.6970358\ttotal: 965ms\tremaining: 2.56s\n",
      "274:\tlearn: 1800.3783280\ttotal: 967ms\tremaining: 2.55s\n",
      "275:\tlearn: 1798.9188838\ttotal: 969ms\tremaining: 2.54s\n",
      "276:\tlearn: 1798.7976454\ttotal: 971ms\tremaining: 2.53s\n",
      "277:\tlearn: 1797.1473906\ttotal: 973ms\tremaining: 2.53s\n",
      "278:\tlearn: 1795.9974354\ttotal: 975ms\tremaining: 2.52s\n",
      "279:\tlearn: 1795.0053180\ttotal: 979ms\tremaining: 2.52s\n",
      "280:\tlearn: 1793.7410468\ttotal: 982ms\tremaining: 2.51s\n",
      "281:\tlearn: 1792.3934783\ttotal: 984ms\tremaining: 2.5s\n",
      "282:\tlearn: 1792.2239557\ttotal: 986ms\tremaining: 2.5s\n",
      "283:\tlearn: 1792.1671207\ttotal: 988ms\tremaining: 2.49s\n",
      "284:\tlearn: 1792.0143243\ttotal: 990ms\tremaining: 2.48s\n",
      "285:\tlearn: 1790.6617278\ttotal: 993ms\tremaining: 2.48s\n",
      "286:\tlearn: 1789.3549141\ttotal: 997ms\tremaining: 2.48s\n",
      "287:\tlearn: 1787.9691366\ttotal: 1s\tremaining: 2.47s\n",
      "288:\tlearn: 1785.9870105\ttotal: 1s\tremaining: 2.47s\n",
      "289:\tlearn: 1784.6058591\ttotal: 1.01s\tremaining: 2.47s\n",
      "290:\tlearn: 1782.6545213\ttotal: 1.01s\tremaining: 2.47s\n",
      "291:\tlearn: 1781.5879501\ttotal: 1.02s\tremaining: 2.46s\n",
      "292:\tlearn: 1780.5340461\ttotal: 1.02s\tremaining: 2.46s\n",
      "293:\tlearn: 1780.4753816\ttotal: 1.02s\tremaining: 2.45s\n",
      "294:\tlearn: 1780.4525032\ttotal: 1.02s\tremaining: 2.45s\n",
      "295:\tlearn: 1780.4372198\ttotal: 1.03s\tremaining: 2.44s\n",
      "296:\tlearn: 1778.6039231\ttotal: 1.03s\tremaining: 2.44s\n",
      "297:\tlearn: 1778.5891281\ttotal: 1.03s\tremaining: 2.43s\n",
      "298:\tlearn: 1777.2668965\ttotal: 1.03s\tremaining: 2.43s\n",
      "299:\tlearn: 1775.8969457\ttotal: 1.04s\tremaining: 2.42s\n",
      "300:\tlearn: 1774.1462631\ttotal: 1.04s\tremaining: 2.42s\n",
      "301:\tlearn: 1772.0952784\ttotal: 1.04s\tremaining: 2.41s\n",
      "302:\tlearn: 1770.6321287\ttotal: 1.05s\tremaining: 2.41s\n",
      "303:\tlearn: 1770.6035687\ttotal: 1.05s\tremaining: 2.4s\n",
      "304:\tlearn: 1769.2796562\ttotal: 1.05s\tremaining: 2.39s\n",
      "305:\tlearn: 1767.2687703\ttotal: 1.05s\tremaining: 2.39s\n",
      "306:\tlearn: 1767.2548897\ttotal: 1.06s\tremaining: 2.38s\n",
      "307:\tlearn: 1765.8401843\ttotal: 1.06s\tremaining: 2.38s\n",
      "308:\tlearn: 1764.1146697\ttotal: 1.06s\tremaining: 2.37s\n",
      "309:\tlearn: 1762.0801231\ttotal: 1.06s\tremaining: 2.37s\n",
      "310:\tlearn: 1760.7588372\ttotal: 1.06s\tremaining: 2.36s\n",
      "311:\tlearn: 1759.6501531\ttotal: 1.07s\tremaining: 2.35s\n",
      "312:\tlearn: 1758.5267463\ttotal: 1.07s\tremaining: 2.35s\n",
      "313:\tlearn: 1757.2966940\ttotal: 1.07s\tremaining: 2.35s\n",
      "314:\tlearn: 1757.1302430\ttotal: 1.07s\tremaining: 2.34s\n",
      "315:\tlearn: 1755.7795146\ttotal: 1.08s\tremaining: 2.33s\n",
      "316:\tlearn: 1755.4855407\ttotal: 1.08s\tremaining: 2.33s\n",
      "317:\tlearn: 1754.1456322\ttotal: 1.08s\tremaining: 2.32s\n",
      "318:\tlearn: 1752.9618032\ttotal: 1.08s\tremaining: 2.32s\n",
      "319:\tlearn: 1752.1616094\ttotal: 1.09s\tremaining: 2.31s\n",
      "320:\tlearn: 1752.0109943\ttotal: 1.09s\tremaining: 2.31s\n",
      "321:\tlearn: 1750.4640642\ttotal: 1.09s\tremaining: 2.3s\n",
      "322:\tlearn: 1750.1340628\ttotal: 1.09s\tremaining: 2.29s\n",
      "323:\tlearn: 1748.6676340\ttotal: 1.1s\tremaining: 2.29s\n",
      "324:\tlearn: 1748.0011831\ttotal: 1.1s\tremaining: 2.28s\n",
      "325:\tlearn: 1745.5304859\ttotal: 1.1s\tremaining: 2.28s\n",
      "326:\tlearn: 1745.4025377\ttotal: 1.1s\tremaining: 2.27s\n",
      "327:\tlearn: 1744.4128086\ttotal: 1.11s\tremaining: 2.27s\n",
      "328:\tlearn: 1741.4685476\ttotal: 1.11s\tremaining: 2.26s\n",
      "329:\tlearn: 1740.9185245\ttotal: 1.11s\tremaining: 2.26s\n",
      "330:\tlearn: 1739.4515060\ttotal: 1.11s\tremaining: 2.25s\n",
      "331:\tlearn: 1739.2422407\ttotal: 1.12s\tremaining: 2.25s\n",
      "332:\tlearn: 1739.0897256\ttotal: 1.12s\tremaining: 2.24s\n",
      "333:\tlearn: 1738.2266398\ttotal: 1.12s\tremaining: 2.24s\n",
      "334:\tlearn: 1738.1434917\ttotal: 1.13s\tremaining: 2.23s\n",
      "335:\tlearn: 1737.4281308\ttotal: 1.13s\tremaining: 2.23s\n",
      "336:\tlearn: 1736.2835726\ttotal: 1.13s\tremaining: 2.22s\n",
      "337:\tlearn: 1736.0590800\ttotal: 1.14s\tremaining: 2.22s\n",
      "338:\tlearn: 1734.8364252\ttotal: 1.14s\tremaining: 2.22s\n",
      "339:\tlearn: 1734.1326675\ttotal: 1.14s\tremaining: 2.21s\n",
      "340:\tlearn: 1733.8939309\ttotal: 1.14s\tremaining: 2.21s\n",
      "341:\tlearn: 1732.9726326\ttotal: 1.15s\tremaining: 2.2s\n",
      "342:\tlearn: 1732.0398099\ttotal: 1.15s\tremaining: 2.2s\n",
      "343:\tlearn: 1730.5489213\ttotal: 1.15s\tremaining: 2.19s\n",
      "344:\tlearn: 1727.9646066\ttotal: 1.15s\tremaining: 2.19s\n",
      "345:\tlearn: 1727.6008279\ttotal: 1.16s\tremaining: 2.18s\n",
      "346:\tlearn: 1726.2101620\ttotal: 1.16s\tremaining: 2.18s\n",
      "347:\tlearn: 1725.2092628\ttotal: 1.16s\tremaining: 2.17s\n",
      "348:\tlearn: 1724.3399795\ttotal: 1.16s\tremaining: 2.17s\n",
      "349:\tlearn: 1722.8321337\ttotal: 1.17s\tremaining: 2.16s\n",
      "350:\tlearn: 1721.9586024\ttotal: 1.17s\tremaining: 2.16s\n",
      "351:\tlearn: 1721.4285195\ttotal: 1.17s\tremaining: 2.15s\n",
      "352:\tlearn: 1720.2990348\ttotal: 1.17s\tremaining: 2.15s\n",
      "353:\tlearn: 1718.7195844\ttotal: 1.18s\tremaining: 2.15s\n",
      "354:\tlearn: 1717.4982786\ttotal: 1.18s\tremaining: 2.14s\n",
      "355:\tlearn: 1716.9648680\ttotal: 1.18s\tremaining: 2.14s\n",
      "356:\tlearn: 1716.1082192\ttotal: 1.18s\tremaining: 2.13s\n",
      "357:\tlearn: 1715.0473949\ttotal: 1.19s\tremaining: 2.13s\n",
      "358:\tlearn: 1713.8809797\ttotal: 1.19s\tremaining: 2.12s\n",
      "359:\tlearn: 1713.0108522\ttotal: 1.19s\tremaining: 2.12s\n",
      "360:\tlearn: 1711.6139552\ttotal: 1.19s\tremaining: 2.11s\n",
      "361:\tlearn: 1711.6032835\ttotal: 1.2s\tremaining: 2.11s\n",
      "362:\tlearn: 1711.1739982\ttotal: 1.2s\tremaining: 2.1s\n",
      "363:\tlearn: 1710.2288628\ttotal: 1.2s\tremaining: 2.1s\n",
      "364:\tlearn: 1709.5646704\ttotal: 1.21s\tremaining: 2.1s\n",
      "365:\tlearn: 1709.4655426\ttotal: 1.21s\tremaining: 2.09s\n",
      "366:\tlearn: 1708.8326320\ttotal: 1.21s\tremaining: 2.09s\n",
      "367:\tlearn: 1707.9503610\ttotal: 1.21s\tremaining: 2.08s\n",
      "368:\tlearn: 1706.8584792\ttotal: 1.22s\tremaining: 2.08s\n",
      "369:\tlearn: 1706.7336781\ttotal: 1.22s\tremaining: 2.08s\n",
      "370:\tlearn: 1705.7461030\ttotal: 1.22s\tremaining: 2.07s\n",
      "371:\tlearn: 1704.9030146\ttotal: 1.23s\tremaining: 2.07s\n",
      "372:\tlearn: 1704.3765132\ttotal: 1.23s\tremaining: 2.07s\n",
      "373:\tlearn: 1704.0513994\ttotal: 1.23s\tremaining: 2.06s\n",
      "374:\tlearn: 1702.9916440\ttotal: 1.23s\tremaining: 2.06s\n",
      "375:\tlearn: 1702.9817375\ttotal: 1.24s\tremaining: 2.05s\n",
      "376:\tlearn: 1702.9727137\ttotal: 1.24s\tremaining: 2.04s\n",
      "377:\tlearn: 1702.3834398\ttotal: 1.24s\tremaining: 2.04s\n",
      "378:\tlearn: 1700.3906487\ttotal: 1.24s\tremaining: 2.04s\n",
      "379:\tlearn: 1699.9249100\ttotal: 1.25s\tremaining: 2.03s\n",
      "380:\tlearn: 1699.2168081\ttotal: 1.25s\tremaining: 2.03s\n",
      "381:\tlearn: 1698.3373165\ttotal: 1.25s\tremaining: 2.02s\n",
      "382:\tlearn: 1697.7665933\ttotal: 1.25s\tremaining: 2.02s\n",
      "383:\tlearn: 1697.2341067\ttotal: 1.25s\tremaining: 2.01s\n",
      "384:\tlearn: 1696.0073394\ttotal: 1.26s\tremaining: 2.01s\n",
      "385:\tlearn: 1694.8427478\ttotal: 1.26s\tremaining: 2.01s\n",
      "386:\tlearn: 1693.3004323\ttotal: 1.26s\tremaining: 2s\n",
      "387:\tlearn: 1692.2528787\ttotal: 1.26s\tremaining: 2s\n",
      "388:\tlearn: 1691.5430673\ttotal: 1.27s\tremaining: 1.99s\n",
      "389:\tlearn: 1690.7467600\ttotal: 1.27s\tremaining: 1.99s\n",
      "390:\tlearn: 1688.7075109\ttotal: 1.27s\tremaining: 1.98s\n",
      "391:\tlearn: 1688.1742932\ttotal: 1.28s\tremaining: 1.98s\n",
      "392:\tlearn: 1686.9367813\ttotal: 1.28s\tremaining: 1.98s\n",
      "393:\tlearn: 1686.7229065\ttotal: 1.28s\tremaining: 1.97s\n",
      "394:\tlearn: 1685.5052792\ttotal: 1.28s\tremaining: 1.97s\n",
      "395:\tlearn: 1684.0474394\ttotal: 1.29s\tremaining: 1.96s\n",
      "396:\tlearn: 1683.6434426\ttotal: 1.29s\tremaining: 1.96s\n",
      "397:\tlearn: 1682.3388898\ttotal: 1.29s\tremaining: 1.95s\n",
      "398:\tlearn: 1681.0736428\ttotal: 1.29s\tremaining: 1.95s\n",
      "399:\tlearn: 1680.0853381\ttotal: 1.3s\tremaining: 1.94s\n",
      "400:\tlearn: 1680.0765233\ttotal: 1.3s\tremaining: 1.94s\n",
      "401:\tlearn: 1679.2382887\ttotal: 1.3s\tremaining: 1.93s\n",
      "402:\tlearn: 1678.1517247\ttotal: 1.3s\tremaining: 1.93s\n",
      "403:\tlearn: 1677.7098097\ttotal: 1.31s\tremaining: 1.93s\n",
      "404:\tlearn: 1677.7030735\ttotal: 1.31s\tremaining: 1.92s\n",
      "405:\tlearn: 1676.7493066\ttotal: 1.31s\tremaining: 1.92s\n",
      "406:\tlearn: 1676.0266856\ttotal: 1.31s\tremaining: 1.91s\n",
      "407:\tlearn: 1674.9671613\ttotal: 1.31s\tremaining: 1.91s\n",
      "408:\tlearn: 1674.7259927\ttotal: 1.32s\tremaining: 1.9s\n",
      "409:\tlearn: 1674.3667115\ttotal: 1.32s\tremaining: 1.9s\n",
      "410:\tlearn: 1673.8861099\ttotal: 1.32s\tremaining: 1.9s\n",
      "411:\tlearn: 1673.1552837\ttotal: 1.33s\tremaining: 1.89s\n",
      "412:\tlearn: 1672.3985470\ttotal: 1.33s\tremaining: 1.89s\n",
      "413:\tlearn: 1671.6637037\ttotal: 1.33s\tremaining: 1.88s\n",
      "414:\tlearn: 1671.5947247\ttotal: 1.33s\tremaining: 1.88s\n",
      "415:\tlearn: 1670.7042129\ttotal: 1.33s\tremaining: 1.88s\n",
      "416:\tlearn: 1670.6980870\ttotal: 1.34s\tremaining: 1.87s\n",
      "417:\tlearn: 1668.7309290\ttotal: 1.34s\tremaining: 1.87s\n",
      "418:\tlearn: 1668.7229118\ttotal: 1.34s\tremaining: 1.86s\n",
      "419:\tlearn: 1667.8440286\ttotal: 1.34s\tremaining: 1.86s\n",
      "420:\tlearn: 1666.3957184\ttotal: 1.35s\tremaining: 1.85s\n",
      "421:\tlearn: 1666.3900210\ttotal: 1.35s\tremaining: 1.85s\n",
      "422:\tlearn: 1665.4051991\ttotal: 1.35s\tremaining: 1.84s\n",
      "423:\tlearn: 1664.9542523\ttotal: 1.35s\tremaining: 1.84s\n",
      "424:\tlearn: 1664.0265640\ttotal: 1.36s\tremaining: 1.84s\n",
      "425:\tlearn: 1662.7924626\ttotal: 1.36s\tremaining: 1.83s\n",
      "426:\tlearn: 1662.2463453\ttotal: 1.36s\tremaining: 1.83s\n",
      "427:\tlearn: 1661.0328072\ttotal: 1.36s\tremaining: 1.82s\n",
      "428:\tlearn: 1660.4545547\ttotal: 1.37s\tremaining: 1.82s\n",
      "429:\tlearn: 1659.5315905\ttotal: 1.37s\tremaining: 1.82s\n",
      "430:\tlearn: 1658.6786720\ttotal: 1.37s\tremaining: 1.81s\n",
      "431:\tlearn: 1658.2426412\ttotal: 1.38s\tremaining: 1.81s\n",
      "432:\tlearn: 1657.7752543\ttotal: 1.38s\tremaining: 1.8s\n",
      "433:\tlearn: 1656.9719443\ttotal: 1.38s\tremaining: 1.8s\n",
      "434:\tlearn: 1656.2888689\ttotal: 1.39s\tremaining: 1.8s\n",
      "435:\tlearn: 1655.3805542\ttotal: 1.39s\tremaining: 1.8s\n",
      "436:\tlearn: 1654.6454557\ttotal: 1.39s\tremaining: 1.79s\n",
      "437:\tlearn: 1653.7772219\ttotal: 1.41s\tremaining: 1.81s\n",
      "438:\tlearn: 1652.9210297\ttotal: 1.41s\tremaining: 1.81s\n",
      "439:\tlearn: 1652.2846730\ttotal: 1.42s\tremaining: 1.8s\n",
      "440:\tlearn: 1651.6495148\ttotal: 1.42s\tremaining: 1.8s\n",
      "441:\tlearn: 1650.8098583\ttotal: 1.42s\tremaining: 1.8s\n",
      "442:\tlearn: 1649.0821537\ttotal: 1.43s\tremaining: 1.79s\n",
      "443:\tlearn: 1647.7780180\ttotal: 1.43s\tremaining: 1.79s\n",
      "444:\tlearn: 1647.1258393\ttotal: 1.43s\tremaining: 1.79s\n",
      "445:\tlearn: 1646.3463064\ttotal: 1.43s\tremaining: 1.78s\n",
      "446:\tlearn: 1645.5060130\ttotal: 1.44s\tremaining: 1.78s\n",
      "447:\tlearn: 1644.8573869\ttotal: 1.44s\tremaining: 1.77s\n",
      "448:\tlearn: 1644.1919681\ttotal: 1.44s\tremaining: 1.77s\n",
      "449:\tlearn: 1644.1862337\ttotal: 1.44s\tremaining: 1.76s\n",
      "450:\tlearn: 1643.0268045\ttotal: 1.45s\tremaining: 1.76s\n",
      "451:\tlearn: 1641.8335772\ttotal: 1.45s\tremaining: 1.76s\n",
      "452:\tlearn: 1641.0999674\ttotal: 1.45s\tremaining: 1.75s\n",
      "453:\tlearn: 1640.1388511\ttotal: 1.45s\tremaining: 1.75s\n",
      "454:\tlearn: 1639.3883450\ttotal: 1.46s\tremaining: 1.74s\n",
      "455:\tlearn: 1639.1536124\ttotal: 1.46s\tremaining: 1.74s\n",
      "456:\tlearn: 1638.2784106\ttotal: 1.46s\tremaining: 1.74s\n",
      "457:\tlearn: 1637.2819934\ttotal: 1.46s\tremaining: 1.73s\n",
      "458:\tlearn: 1636.6991900\ttotal: 1.47s\tremaining: 1.73s\n",
      "459:\tlearn: 1635.9965470\ttotal: 1.47s\tremaining: 1.72s\n",
      "460:\tlearn: 1634.8505631\ttotal: 1.47s\tremaining: 1.72s\n",
      "461:\tlearn: 1634.8436004\ttotal: 1.47s\tremaining: 1.71s\n",
      "462:\tlearn: 1633.9808586\ttotal: 1.47s\tremaining: 1.71s\n",
      "463:\tlearn: 1632.8217886\ttotal: 1.48s\tremaining: 1.71s\n",
      "464:\tlearn: 1632.8166489\ttotal: 1.48s\tremaining: 1.7s\n",
      "465:\tlearn: 1631.9505244\ttotal: 1.48s\tremaining: 1.7s\n",
      "466:\tlearn: 1631.4172268\ttotal: 1.48s\tremaining: 1.69s\n",
      "467:\tlearn: 1630.4006877\ttotal: 1.49s\tremaining: 1.69s\n",
      "468:\tlearn: 1629.4169556\ttotal: 1.49s\tremaining: 1.68s\n",
      "469:\tlearn: 1628.8765862\ttotal: 1.49s\tremaining: 1.68s\n",
      "470:\tlearn: 1628.0498741\ttotal: 1.49s\tremaining: 1.68s\n",
      "471:\tlearn: 1627.1730319\ttotal: 1.5s\tremaining: 1.67s\n",
      "472:\tlearn: 1627.1674900\ttotal: 1.5s\tremaining: 1.67s\n",
      "473:\tlearn: 1627.1608380\ttotal: 1.5s\tremaining: 1.66s\n",
      "474:\tlearn: 1626.2548818\ttotal: 1.5s\tremaining: 1.66s\n",
      "475:\tlearn: 1625.6715130\ttotal: 1.5s\tremaining: 1.66s\n",
      "476:\tlearn: 1625.1342810\ttotal: 1.51s\tremaining: 1.65s\n",
      "477:\tlearn: 1624.6074336\ttotal: 1.51s\tremaining: 1.65s\n",
      "478:\tlearn: 1623.5446125\ttotal: 1.51s\tremaining: 1.64s\n",
      "479:\tlearn: 1623.0319486\ttotal: 1.51s\tremaining: 1.64s\n",
      "480:\tlearn: 1623.0256442\ttotal: 1.52s\tremaining: 1.64s\n",
      "481:\tlearn: 1622.0775492\ttotal: 1.52s\tremaining: 1.63s\n",
      "482:\tlearn: 1621.7263597\ttotal: 1.52s\tremaining: 1.63s\n",
      "483:\tlearn: 1621.1232647\ttotal: 1.52s\tremaining: 1.63s\n",
      "484:\tlearn: 1620.4713118\ttotal: 1.53s\tremaining: 1.62s\n",
      "485:\tlearn: 1619.5542367\ttotal: 1.53s\tremaining: 1.62s\n",
      "486:\tlearn: 1619.4907182\ttotal: 1.53s\tremaining: 1.61s\n",
      "487:\tlearn: 1618.7101179\ttotal: 1.53s\tremaining: 1.61s\n",
      "488:\tlearn: 1618.2951139\ttotal: 1.53s\tremaining: 1.6s\n",
      "489:\tlearn: 1617.7006133\ttotal: 1.54s\tremaining: 1.6s\n",
      "490:\tlearn: 1616.8171758\ttotal: 1.54s\tremaining: 1.6s\n",
      "491:\tlearn: 1615.9523209\ttotal: 1.54s\tremaining: 1.59s\n",
      "492:\tlearn: 1615.0685271\ttotal: 1.54s\tremaining: 1.59s\n",
      "493:\tlearn: 1614.3259908\ttotal: 1.55s\tremaining: 1.58s\n",
      "494:\tlearn: 1613.6681680\ttotal: 1.55s\tremaining: 1.58s\n",
      "495:\tlearn: 1612.6223579\ttotal: 1.55s\tremaining: 1.58s\n",
      "496:\tlearn: 1612.1246019\ttotal: 1.55s\tremaining: 1.57s\n",
      "497:\tlearn: 1611.5902733\ttotal: 1.56s\tremaining: 1.57s\n",
      "498:\tlearn: 1611.0252811\ttotal: 1.56s\tremaining: 1.56s\n",
      "499:\tlearn: 1610.1743817\ttotal: 1.56s\tremaining: 1.56s\n",
      "500:\tlearn: 1609.1306431\ttotal: 1.56s\tremaining: 1.56s\n",
      "501:\tlearn: 1608.8041140\ttotal: 1.56s\tremaining: 1.55s\n",
      "502:\tlearn: 1608.3654100\ttotal: 1.57s\tremaining: 1.55s\n",
      "503:\tlearn: 1607.7038323\ttotal: 1.57s\tremaining: 1.55s\n",
      "504:\tlearn: 1606.7154878\ttotal: 1.57s\tremaining: 1.54s\n",
      "505:\tlearn: 1605.7084910\ttotal: 1.58s\tremaining: 1.54s\n",
      "506:\tlearn: 1604.5735964\ttotal: 1.58s\tremaining: 1.53s\n",
      "507:\tlearn: 1604.2423859\ttotal: 1.58s\tremaining: 1.53s\n",
      "508:\tlearn: 1603.5754384\ttotal: 1.58s\tremaining: 1.53s\n",
      "509:\tlearn: 1602.3493331\ttotal: 1.59s\tremaining: 1.53s\n",
      "510:\tlearn: 1601.6826433\ttotal: 1.59s\tremaining: 1.52s\n",
      "511:\tlearn: 1601.3004720\ttotal: 1.59s\tremaining: 1.52s\n",
      "512:\tlearn: 1600.7078245\ttotal: 1.6s\tremaining: 1.52s\n",
      "513:\tlearn: 1599.7616341\ttotal: 1.6s\tremaining: 1.51s\n",
      "514:\tlearn: 1599.2795978\ttotal: 1.6s\tremaining: 1.51s\n",
      "515:\tlearn: 1598.4881846\ttotal: 1.61s\tremaining: 1.51s\n",
      "516:\tlearn: 1597.5666100\ttotal: 1.61s\tremaining: 1.5s\n",
      "517:\tlearn: 1597.5603605\ttotal: 1.61s\tremaining: 1.5s\n",
      "518:\tlearn: 1597.0206435\ttotal: 1.62s\tremaining: 1.5s\n",
      "519:\tlearn: 1596.5639187\ttotal: 1.62s\tremaining: 1.49s\n",
      "520:\tlearn: 1596.0628163\ttotal: 1.62s\tremaining: 1.49s\n",
      "521:\tlearn: 1596.0293033\ttotal: 1.62s\tremaining: 1.49s\n",
      "522:\tlearn: 1595.2850978\ttotal: 1.63s\tremaining: 1.48s\n",
      "523:\tlearn: 1595.2491480\ttotal: 1.63s\tremaining: 1.48s\n",
      "524:\tlearn: 1593.5751065\ttotal: 1.63s\tremaining: 1.47s\n",
      "525:\tlearn: 1593.1462568\ttotal: 1.63s\tremaining: 1.47s\n",
      "526:\tlearn: 1592.6350386\ttotal: 1.64s\tremaining: 1.47s\n",
      "527:\tlearn: 1591.9428022\ttotal: 1.64s\tremaining: 1.46s\n",
      "528:\tlearn: 1591.2942960\ttotal: 1.64s\tremaining: 1.46s\n",
      "529:\tlearn: 1590.6941072\ttotal: 1.64s\tremaining: 1.46s\n",
      "530:\tlearn: 1589.7248620\ttotal: 1.64s\tremaining: 1.45s\n",
      "531:\tlearn: 1589.7208016\ttotal: 1.65s\tremaining: 1.45s\n",
      "532:\tlearn: 1589.2888045\ttotal: 1.65s\tremaining: 1.45s\n",
      "533:\tlearn: 1589.2629356\ttotal: 1.65s\tremaining: 1.44s\n",
      "534:\tlearn: 1588.7195773\ttotal: 1.66s\tremaining: 1.44s\n",
      "535:\tlearn: 1588.7138993\ttotal: 1.66s\tremaining: 1.43s\n",
      "536:\tlearn: 1588.6502525\ttotal: 1.66s\tremaining: 1.43s\n",
      "537:\tlearn: 1587.8268316\ttotal: 1.66s\tremaining: 1.43s\n",
      "538:\tlearn: 1587.7967531\ttotal: 1.66s\tremaining: 1.42s\n",
      "539:\tlearn: 1586.9466666\ttotal: 1.67s\tremaining: 1.42s\n",
      "540:\tlearn: 1586.3539130\ttotal: 1.67s\tremaining: 1.42s\n",
      "541:\tlearn: 1585.6291330\ttotal: 1.67s\tremaining: 1.41s\n",
      "542:\tlearn: 1585.1849881\ttotal: 1.67s\tremaining: 1.41s\n",
      "543:\tlearn: 1585.1783335\ttotal: 1.67s\tremaining: 1.4s\n",
      "544:\tlearn: 1585.1488325\ttotal: 1.68s\tremaining: 1.4s\n",
      "545:\tlearn: 1584.7386365\ttotal: 1.68s\tremaining: 1.4s\n",
      "546:\tlearn: 1584.1964825\ttotal: 1.68s\tremaining: 1.39s\n",
      "547:\tlearn: 1583.5659525\ttotal: 1.69s\tremaining: 1.39s\n",
      "548:\tlearn: 1583.5626068\ttotal: 1.69s\tremaining: 1.39s\n",
      "549:\tlearn: 1582.1446464\ttotal: 1.69s\tremaining: 1.38s\n",
      "550:\tlearn: 1581.0756643\ttotal: 1.69s\tremaining: 1.38s\n",
      "551:\tlearn: 1579.5267853\ttotal: 1.7s\tremaining: 1.38s\n",
      "552:\tlearn: 1579.2119622\ttotal: 1.7s\tremaining: 1.37s\n",
      "553:\tlearn: 1578.4369719\ttotal: 1.7s\tremaining: 1.37s\n",
      "554:\tlearn: 1577.6775187\ttotal: 1.7s\tremaining: 1.36s\n",
      "555:\tlearn: 1577.2241209\ttotal: 1.71s\tremaining: 1.36s\n",
      "556:\tlearn: 1576.5412992\ttotal: 1.71s\tremaining: 1.36s\n",
      "557:\tlearn: 1576.5366070\ttotal: 1.71s\tremaining: 1.35s\n",
      "558:\tlearn: 1575.2564227\ttotal: 1.71s\tremaining: 1.35s\n",
      "559:\tlearn: 1574.7426794\ttotal: 1.72s\tremaining: 1.35s\n",
      "560:\tlearn: 1574.5542605\ttotal: 1.72s\tremaining: 1.34s\n",
      "561:\tlearn: 1573.8030659\ttotal: 1.72s\tremaining: 1.34s\n",
      "562:\tlearn: 1572.5788761\ttotal: 1.72s\tremaining: 1.34s\n",
      "563:\tlearn: 1571.4726477\ttotal: 1.73s\tremaining: 1.33s\n",
      "564:\tlearn: 1570.9356228\ttotal: 1.73s\tremaining: 1.33s\n",
      "565:\tlearn: 1570.6057742\ttotal: 1.73s\tremaining: 1.33s\n",
      "566:\tlearn: 1569.8357241\ttotal: 1.73s\tremaining: 1.32s\n",
      "567:\tlearn: 1569.2798024\ttotal: 1.74s\tremaining: 1.32s\n",
      "568:\tlearn: 1568.6194595\ttotal: 1.74s\tremaining: 1.32s\n",
      "569:\tlearn: 1567.3233925\ttotal: 1.74s\tremaining: 1.31s\n",
      "570:\tlearn: 1566.8116821\ttotal: 1.74s\tremaining: 1.31s\n",
      "571:\tlearn: 1566.0709619\ttotal: 1.75s\tremaining: 1.3s\n",
      "572:\tlearn: 1565.3996724\ttotal: 1.75s\tremaining: 1.3s\n",
      "573:\tlearn: 1565.3966234\ttotal: 1.75s\tremaining: 1.3s\n",
      "574:\tlearn: 1564.6906029\ttotal: 1.75s\tremaining: 1.29s\n",
      "575:\tlearn: 1564.1796048\ttotal: 1.75s\tremaining: 1.29s\n",
      "576:\tlearn: 1562.8717864\ttotal: 1.76s\tremaining: 1.29s\n",
      "577:\tlearn: 1562.3733400\ttotal: 1.76s\tremaining: 1.28s\n",
      "578:\tlearn: 1562.3671465\ttotal: 1.76s\tremaining: 1.28s\n",
      "579:\tlearn: 1561.6513990\ttotal: 1.76s\tremaining: 1.28s\n",
      "580:\tlearn: 1561.6161555\ttotal: 1.76s\tremaining: 1.27s\n",
      "581:\tlearn: 1561.4512966\ttotal: 1.77s\tremaining: 1.27s\n",
      "582:\tlearn: 1561.2164531\ttotal: 1.77s\tremaining: 1.27s\n",
      "583:\tlearn: 1560.6503313\ttotal: 1.77s\tremaining: 1.26s\n",
      "584:\tlearn: 1560.3758868\ttotal: 1.78s\tremaining: 1.26s\n",
      "585:\tlearn: 1559.8485526\ttotal: 1.78s\tremaining: 1.26s\n",
      "586:\tlearn: 1559.1321983\ttotal: 1.78s\tremaining: 1.26s\n",
      "587:\tlearn: 1558.7598262\ttotal: 1.79s\tremaining: 1.25s\n",
      "588:\tlearn: 1558.2884418\ttotal: 1.79s\tremaining: 1.25s\n",
      "589:\tlearn: 1557.5979666\ttotal: 1.79s\tremaining: 1.25s\n",
      "590:\tlearn: 1556.8202158\ttotal: 1.8s\tremaining: 1.25s\n",
      "591:\tlearn: 1556.2901509\ttotal: 1.8s\tremaining: 1.24s\n",
      "592:\tlearn: 1555.7655070\ttotal: 1.8s\tremaining: 1.24s\n",
      "593:\tlearn: 1555.0898502\ttotal: 1.81s\tremaining: 1.24s\n",
      "594:\tlearn: 1555.0843610\ttotal: 1.81s\tremaining: 1.23s\n",
      "595:\tlearn: 1554.4685078\ttotal: 1.81s\tremaining: 1.23s\n",
      "596:\tlearn: 1553.9372024\ttotal: 1.81s\tremaining: 1.22s\n",
      "597:\tlearn: 1553.2788832\ttotal: 1.81s\tremaining: 1.22s\n",
      "598:\tlearn: 1552.3801942\ttotal: 1.82s\tremaining: 1.22s\n",
      "599:\tlearn: 1551.3975095\ttotal: 1.82s\tremaining: 1.21s\n",
      "600:\tlearn: 1550.5038601\ttotal: 1.82s\tremaining: 1.21s\n",
      "601:\tlearn: 1549.5576659\ttotal: 1.83s\tremaining: 1.21s\n",
      "602:\tlearn: 1548.6101151\ttotal: 1.83s\tremaining: 1.2s\n",
      "603:\tlearn: 1547.8558864\ttotal: 1.83s\tremaining: 1.2s\n",
      "604:\tlearn: 1547.3243309\ttotal: 1.83s\tremaining: 1.2s\n",
      "605:\tlearn: 1546.8806695\ttotal: 1.84s\tremaining: 1.19s\n",
      "606:\tlearn: 1546.6301319\ttotal: 1.84s\tremaining: 1.19s\n",
      "607:\tlearn: 1545.9548415\ttotal: 1.84s\tremaining: 1.19s\n",
      "608:\tlearn: 1545.7227868\ttotal: 1.84s\tremaining: 1.18s\n",
      "609:\tlearn: 1545.7202337\ttotal: 1.84s\tremaining: 1.18s\n",
      "610:\tlearn: 1545.4835163\ttotal: 1.85s\tremaining: 1.18s\n",
      "611:\tlearn: 1544.8657908\ttotal: 1.85s\tremaining: 1.17s\n",
      "612:\tlearn: 1544.1897276\ttotal: 1.85s\tremaining: 1.17s\n",
      "613:\tlearn: 1543.6641776\ttotal: 1.85s\tremaining: 1.17s\n",
      "614:\tlearn: 1543.2425882\ttotal: 1.86s\tremaining: 1.16s\n",
      "615:\tlearn: 1542.4606046\ttotal: 1.86s\tremaining: 1.16s\n",
      "616:\tlearn: 1541.8826557\ttotal: 1.86s\tremaining: 1.16s\n",
      "617:\tlearn: 1541.4116968\ttotal: 1.86s\tremaining: 1.15s\n",
      "618:\tlearn: 1540.7914247\ttotal: 1.87s\tremaining: 1.15s\n",
      "619:\tlearn: 1540.1007106\ttotal: 1.87s\tremaining: 1.15s\n",
      "620:\tlearn: 1539.9223185\ttotal: 1.87s\tremaining: 1.14s\n",
      "621:\tlearn: 1539.5110671\ttotal: 1.87s\tremaining: 1.14s\n",
      "622:\tlearn: 1539.2868606\ttotal: 1.87s\tremaining: 1.13s\n",
      "623:\tlearn: 1538.4381909\ttotal: 1.88s\tremaining: 1.13s\n",
      "624:\tlearn: 1537.5885153\ttotal: 1.88s\tremaining: 1.13s\n",
      "625:\tlearn: 1536.8231512\ttotal: 1.88s\tremaining: 1.12s\n",
      "626:\tlearn: 1536.6111449\ttotal: 1.89s\tremaining: 1.12s\n",
      "627:\tlearn: 1536.1777200\ttotal: 1.89s\tremaining: 1.12s\n",
      "628:\tlearn: 1535.9721134\ttotal: 1.89s\tremaining: 1.11s\n",
      "629:\tlearn: 1535.4650100\ttotal: 1.89s\tremaining: 1.11s\n",
      "630:\tlearn: 1535.0361433\ttotal: 1.89s\tremaining: 1.11s\n",
      "631:\tlearn: 1534.2675561\ttotal: 1.9s\tremaining: 1.1s\n",
      "632:\tlearn: 1533.8255389\ttotal: 1.9s\tremaining: 1.1s\n",
      "633:\tlearn: 1533.3680115\ttotal: 1.9s\tremaining: 1.1s\n",
      "634:\tlearn: 1532.7572483\ttotal: 1.9s\tremaining: 1.09s\n",
      "635:\tlearn: 1532.4787230\ttotal: 1.91s\tremaining: 1.09s\n",
      "636:\tlearn: 1532.4762317\ttotal: 1.91s\tremaining: 1.09s\n",
      "637:\tlearn: 1532.0386737\ttotal: 1.91s\tremaining: 1.08s\n",
      "638:\tlearn: 1531.0993806\ttotal: 1.91s\tremaining: 1.08s\n",
      "639:\tlearn: 1530.5599877\ttotal: 1.92s\tremaining: 1.08s\n",
      "640:\tlearn: 1530.0054280\ttotal: 1.92s\tremaining: 1.07s\n",
      "641:\tlearn: 1529.9998287\ttotal: 1.92s\tremaining: 1.07s\n",
      "642:\tlearn: 1529.3198320\ttotal: 1.92s\tremaining: 1.07s\n",
      "643:\tlearn: 1528.5543076\ttotal: 1.92s\tremaining: 1.06s\n",
      "644:\tlearn: 1528.4075929\ttotal: 1.93s\tremaining: 1.06s\n",
      "645:\tlearn: 1528.2380341\ttotal: 1.93s\tremaining: 1.06s\n",
      "646:\tlearn: 1528.0463030\ttotal: 1.93s\tremaining: 1.05s\n",
      "647:\tlearn: 1528.0438206\ttotal: 1.93s\tremaining: 1.05s\n",
      "648:\tlearn: 1527.5933747\ttotal: 1.94s\tremaining: 1.05s\n",
      "649:\tlearn: 1527.5909508\ttotal: 1.94s\tremaining: 1.04s\n",
      "650:\tlearn: 1527.5855013\ttotal: 1.94s\tremaining: 1.04s\n",
      "651:\tlearn: 1527.0332137\ttotal: 1.94s\tremaining: 1.03s\n",
      "652:\tlearn: 1526.4115070\ttotal: 1.95s\tremaining: 1.03s\n",
      "653:\tlearn: 1525.9038960\ttotal: 1.95s\tremaining: 1.03s\n",
      "654:\tlearn: 1525.2045269\ttotal: 1.95s\tremaining: 1.03s\n",
      "655:\tlearn: 1525.0228335\ttotal: 1.95s\tremaining: 1.02s\n",
      "656:\tlearn: 1524.6959253\ttotal: 1.95s\tremaining: 1.02s\n",
      "657:\tlearn: 1523.9674852\ttotal: 1.96s\tremaining: 1.02s\n",
      "658:\tlearn: 1523.6628161\ttotal: 1.96s\tremaining: 1.01s\n",
      "659:\tlearn: 1523.3021151\ttotal: 1.96s\tremaining: 1.01s\n",
      "660:\tlearn: 1523.1285571\ttotal: 1.97s\tremaining: 1.01s\n",
      "661:\tlearn: 1523.1262874\ttotal: 1.97s\tremaining: 1s\n",
      "662:\tlearn: 1522.4556967\ttotal: 1.97s\tremaining: 1s\n",
      "663:\tlearn: 1522.0272486\ttotal: 1.97s\tremaining: 998ms\n",
      "664:\tlearn: 1521.0601471\ttotal: 1.98s\tremaining: 995ms\n",
      "665:\tlearn: 1520.1147002\ttotal: 1.98s\tremaining: 992ms\n",
      "666:\tlearn: 1519.9792799\ttotal: 1.98s\tremaining: 989ms\n",
      "667:\tlearn: 1519.4140337\ttotal: 1.98s\tremaining: 986ms\n",
      "668:\tlearn: 1519.4118540\ttotal: 1.99s\tremaining: 982ms\n",
      "669:\tlearn: 1519.2877986\ttotal: 1.99s\tremaining: 979ms\n",
      "670:\tlearn: 1518.8732374\ttotal: 1.99s\tremaining: 976ms\n",
      "671:\tlearn: 1518.5829893\ttotal: 1.99s\tremaining: 973ms\n",
      "672:\tlearn: 1518.1985194\ttotal: 2s\tremaining: 970ms\n",
      "673:\tlearn: 1517.0998050\ttotal: 2s\tremaining: 967ms\n",
      "674:\tlearn: 1516.5796560\ttotal: 2s\tremaining: 964ms\n",
      "675:\tlearn: 1515.4949256\ttotal: 2s\tremaining: 961ms\n",
      "676:\tlearn: 1515.0151918\ttotal: 2.01s\tremaining: 958ms\n",
      "677:\tlearn: 1514.3079588\ttotal: 2.01s\tremaining: 954ms\n",
      "678:\tlearn: 1513.3721764\ttotal: 2.01s\tremaining: 951ms\n",
      "679:\tlearn: 1512.9755842\ttotal: 2.01s\tremaining: 948ms\n",
      "680:\tlearn: 1512.6741188\ttotal: 2.02s\tremaining: 944ms\n",
      "681:\tlearn: 1512.0854028\ttotal: 2.02s\tremaining: 943ms\n",
      "682:\tlearn: 1511.5523403\ttotal: 2.02s\tremaining: 939ms\n",
      "683:\tlearn: 1511.4299912\ttotal: 2.02s\tremaining: 936ms\n",
      "684:\tlearn: 1511.0830365\ttotal: 2.03s\tremaining: 932ms\n",
      "685:\tlearn: 1510.8037396\ttotal: 2.03s\tremaining: 929ms\n",
      "686:\tlearn: 1510.3570717\ttotal: 2.03s\tremaining: 926ms\n",
      "687:\tlearn: 1509.9490389\ttotal: 2.04s\tremaining: 923ms\n",
      "688:\tlearn: 1509.7766331\ttotal: 2.04s\tremaining: 920ms\n",
      "689:\tlearn: 1509.4390735\ttotal: 2.04s\tremaining: 916ms\n",
      "690:\tlearn: 1509.4368779\ttotal: 2.04s\tremaining: 913ms\n",
      "691:\tlearn: 1508.9282297\ttotal: 2.04s\tremaining: 909ms\n",
      "692:\tlearn: 1508.8695619\ttotal: 2.04s\tremaining: 906ms\n",
      "693:\tlearn: 1508.4027452\ttotal: 2.05s\tremaining: 903ms\n",
      "694:\tlearn: 1508.1697756\ttotal: 2.05s\tremaining: 899ms\n",
      "695:\tlearn: 1507.6519050\ttotal: 2.05s\tremaining: 896ms\n",
      "696:\tlearn: 1507.5610558\ttotal: 2.05s\tremaining: 893ms\n",
      "697:\tlearn: 1507.0625323\ttotal: 2.06s\tremaining: 890ms\n",
      "698:\tlearn: 1506.6381062\ttotal: 2.06s\tremaining: 886ms\n",
      "699:\tlearn: 1506.5447938\ttotal: 2.06s\tremaining: 883ms\n",
      "700:\tlearn: 1506.0519921\ttotal: 2.06s\tremaining: 880ms\n",
      "701:\tlearn: 1505.4868389\ttotal: 2.07s\tremaining: 877ms\n",
      "702:\tlearn: 1504.6789345\ttotal: 2.07s\tremaining: 874ms\n",
      "703:\tlearn: 1504.2550913\ttotal: 2.07s\tremaining: 871ms\n",
      "704:\tlearn: 1504.2509714\ttotal: 2.07s\tremaining: 867ms\n",
      "705:\tlearn: 1503.9769481\ttotal: 2.08s\tremaining: 864ms\n",
      "706:\tlearn: 1503.5443987\ttotal: 2.08s\tremaining: 861ms\n",
      "707:\tlearn: 1503.2172431\ttotal: 2.08s\tremaining: 858ms\n",
      "708:\tlearn: 1503.2153193\ttotal: 2.08s\tremaining: 854ms\n",
      "709:\tlearn: 1502.8174270\ttotal: 2.08s\tremaining: 851ms\n",
      "710:\tlearn: 1502.6941687\ttotal: 2.09s\tremaining: 848ms\n",
      "711:\tlearn: 1502.1639235\ttotal: 2.09s\tremaining: 845ms\n",
      "712:\tlearn: 1501.9554328\ttotal: 2.09s\tremaining: 842ms\n",
      "713:\tlearn: 1501.7859698\ttotal: 2.09s\tremaining: 838ms\n",
      "714:\tlearn: 1501.4143268\ttotal: 2.1s\tremaining: 835ms\n",
      "715:\tlearn: 1500.3396370\ttotal: 2.1s\tremaining: 833ms\n",
      "716:\tlearn: 1499.7269771\ttotal: 2.1s\tremaining: 829ms\n",
      "717:\tlearn: 1499.2410406\ttotal: 2.1s\tremaining: 826ms\n",
      "718:\tlearn: 1498.8186231\ttotal: 2.1s\tremaining: 823ms\n",
      "719:\tlearn: 1498.6632719\ttotal: 2.11s\tremaining: 820ms\n",
      "720:\tlearn: 1498.1343704\ttotal: 2.11s\tremaining: 816ms\n",
      "721:\tlearn: 1497.0250215\ttotal: 2.11s\tremaining: 813ms\n",
      "722:\tlearn: 1496.4937406\ttotal: 2.12s\tremaining: 810ms\n",
      "723:\tlearn: 1496.2014423\ttotal: 2.12s\tremaining: 807ms\n",
      "724:\tlearn: 1495.4118553\ttotal: 2.12s\tremaining: 804ms\n",
      "725:\tlearn: 1494.7413997\ttotal: 2.12s\tremaining: 801ms\n",
      "726:\tlearn: 1494.3674272\ttotal: 2.12s\tremaining: 798ms\n",
      "727:\tlearn: 1493.8728559\ttotal: 2.13s\tremaining: 794ms\n",
      "728:\tlearn: 1493.6899284\ttotal: 2.13s\tremaining: 792ms\n",
      "729:\tlearn: 1493.5459703\ttotal: 2.13s\tremaining: 788ms\n",
      "730:\tlearn: 1493.0855809\ttotal: 2.13s\tremaining: 785ms\n",
      "731:\tlearn: 1492.6735306\ttotal: 2.14s\tremaining: 782ms\n",
      "732:\tlearn: 1492.3567624\ttotal: 2.14s\tremaining: 779ms\n",
      "733:\tlearn: 1491.8210956\ttotal: 2.14s\tremaining: 776ms\n",
      "734:\tlearn: 1491.5451157\ttotal: 2.14s\tremaining: 773ms\n",
      "735:\tlearn: 1491.2696216\ttotal: 2.15s\tremaining: 770ms\n",
      "736:\tlearn: 1491.2660492\ttotal: 2.15s\tremaining: 767ms\n",
      "737:\tlearn: 1490.7195661\ttotal: 2.15s\tremaining: 764ms\n",
      "738:\tlearn: 1490.2063928\ttotal: 2.15s\tremaining: 761ms\n",
      "739:\tlearn: 1490.0643967\ttotal: 2.16s\tremaining: 759ms\n",
      "740:\tlearn: 1489.7011822\ttotal: 2.17s\tremaining: 757ms\n",
      "741:\tlearn: 1489.2869158\ttotal: 2.17s\tremaining: 754ms\n",
      "742:\tlearn: 1488.9228372\ttotal: 2.17s\tremaining: 751ms\n",
      "743:\tlearn: 1488.7243834\ttotal: 2.17s\tremaining: 748ms\n",
      "744:\tlearn: 1488.2376638\ttotal: 2.18s\tremaining: 745ms\n",
      "745:\tlearn: 1488.0430156\ttotal: 2.18s\tremaining: 742ms\n",
      "746:\tlearn: 1487.6520531\ttotal: 2.18s\tremaining: 739ms\n",
      "747:\tlearn: 1486.5600828\ttotal: 2.19s\tremaining: 737ms\n",
      "748:\tlearn: 1485.9062922\ttotal: 2.19s\tremaining: 733ms\n",
      "749:\tlearn: 1485.4251643\ttotal: 2.19s\tremaining: 731ms\n",
      "750:\tlearn: 1485.2729503\ttotal: 2.19s\tremaining: 728ms\n",
      "751:\tlearn: 1484.9207482\ttotal: 2.2s\tremaining: 725ms\n",
      "752:\tlearn: 1484.7877109\ttotal: 2.2s\tremaining: 721ms\n",
      "753:\tlearn: 1484.4276696\ttotal: 2.2s\tremaining: 718ms\n",
      "754:\tlearn: 1484.1451191\ttotal: 2.2s\tremaining: 715ms\n",
      "755:\tlearn: 1483.6436711\ttotal: 2.21s\tremaining: 712ms\n",
      "756:\tlearn: 1483.4284439\ttotal: 2.21s\tremaining: 709ms\n",
      "757:\tlearn: 1483.2090473\ttotal: 2.21s\tremaining: 706ms\n",
      "758:\tlearn: 1482.9868362\ttotal: 2.21s\tremaining: 703ms\n",
      "759:\tlearn: 1481.9785811\ttotal: 2.21s\tremaining: 700ms\n",
      "760:\tlearn: 1481.5380530\ttotal: 2.22s\tremaining: 697ms\n",
      "761:\tlearn: 1481.0872585\ttotal: 2.22s\tremaining: 694ms\n",
      "762:\tlearn: 1480.1463776\ttotal: 2.22s\tremaining: 691ms\n",
      "763:\tlearn: 1479.7749165\ttotal: 2.23s\tremaining: 688ms\n",
      "764:\tlearn: 1479.3483324\ttotal: 2.23s\tremaining: 685ms\n",
      "765:\tlearn: 1478.6065632\ttotal: 2.23s\tremaining: 681ms\n",
      "766:\tlearn: 1478.2264635\ttotal: 2.23s\tremaining: 678ms\n",
      "767:\tlearn: 1478.1193215\ttotal: 2.23s\tremaining: 675ms\n",
      "768:\tlearn: 1477.8739093\ttotal: 2.24s\tremaining: 672ms\n",
      "769:\tlearn: 1477.6173939\ttotal: 2.24s\tremaining: 669ms\n",
      "770:\tlearn: 1477.2100833\ttotal: 2.24s\tremaining: 666ms\n",
      "771:\tlearn: 1476.7144625\ttotal: 2.25s\tremaining: 663ms\n",
      "772:\tlearn: 1476.4878631\ttotal: 2.25s\tremaining: 660ms\n",
      "773:\tlearn: 1476.4845425\ttotal: 2.25s\tremaining: 657ms\n",
      "774:\tlearn: 1475.9505540\ttotal: 2.25s\tremaining: 654ms\n",
      "775:\tlearn: 1475.3478379\ttotal: 2.25s\tremaining: 651ms\n",
      "776:\tlearn: 1474.7538401\ttotal: 2.26s\tremaining: 648ms\n",
      "777:\tlearn: 1474.2528992\ttotal: 2.26s\tremaining: 645ms\n",
      "778:\tlearn: 1473.7965917\ttotal: 2.26s\tremaining: 642ms\n",
      "779:\tlearn: 1473.5738151\ttotal: 2.26s\tremaining: 638ms\n",
      "780:\tlearn: 1473.0730278\ttotal: 2.27s\tremaining: 635ms\n",
      "781:\tlearn: 1472.6449101\ttotal: 2.27s\tremaining: 632ms\n",
      "782:\tlearn: 1472.5677256\ttotal: 2.27s\tremaining: 629ms\n",
      "783:\tlearn: 1471.9811807\ttotal: 2.27s\tremaining: 626ms\n",
      "784:\tlearn: 1471.1699385\ttotal: 2.27s\tremaining: 623ms\n",
      "785:\tlearn: 1470.7059682\ttotal: 2.28s\tremaining: 620ms\n",
      "786:\tlearn: 1470.1587220\ttotal: 2.28s\tremaining: 617ms\n",
      "787:\tlearn: 1469.9294262\ttotal: 2.28s\tremaining: 614ms\n",
      "788:\tlearn: 1469.4169063\ttotal: 2.28s\tremaining: 611ms\n",
      "789:\tlearn: 1468.6528643\ttotal: 2.29s\tremaining: 608ms\n",
      "790:\tlearn: 1467.9987412\ttotal: 2.29s\tremaining: 605ms\n",
      "791:\tlearn: 1467.7620223\ttotal: 2.29s\tremaining: 602ms\n",
      "792:\tlearn: 1467.5853525\ttotal: 2.29s\tremaining: 599ms\n",
      "793:\tlearn: 1467.3658347\ttotal: 2.3s\tremaining: 596ms\n",
      "794:\tlearn: 1467.0137217\ttotal: 2.3s\tremaining: 593ms\n",
      "795:\tlearn: 1466.7282224\ttotal: 2.3s\tremaining: 590ms\n",
      "796:\tlearn: 1466.5704710\ttotal: 2.3s\tremaining: 587ms\n",
      "797:\tlearn: 1466.2577219\ttotal: 2.31s\tremaining: 584ms\n",
      "798:\tlearn: 1465.8506907\ttotal: 2.31s\tremaining: 581ms\n",
      "799:\tlearn: 1465.5894428\ttotal: 2.31s\tremaining: 578ms\n",
      "800:\tlearn: 1465.1902481\ttotal: 2.31s\tremaining: 575ms\n",
      "801:\tlearn: 1464.3818980\ttotal: 2.32s\tremaining: 572ms\n",
      "802:\tlearn: 1464.0797228\ttotal: 2.32s\tremaining: 569ms\n",
      "803:\tlearn: 1463.2296633\ttotal: 2.32s\tremaining: 566ms\n",
      "804:\tlearn: 1462.4015671\ttotal: 2.32s\tremaining: 563ms\n",
      "805:\tlearn: 1461.8409129\ttotal: 2.32s\tremaining: 560ms\n",
      "806:\tlearn: 1461.7107816\ttotal: 2.33s\tremaining: 556ms\n",
      "807:\tlearn: 1461.2882118\ttotal: 2.33s\tremaining: 554ms\n",
      "808:\tlearn: 1460.7721327\ttotal: 2.33s\tremaining: 551ms\n",
      "809:\tlearn: 1460.4482554\ttotal: 2.33s\tremaining: 548ms\n",
      "810:\tlearn: 1460.0544688\ttotal: 2.34s\tremaining: 545ms\n",
      "811:\tlearn: 1460.0511952\ttotal: 2.34s\tremaining: 541ms\n",
      "812:\tlearn: 1460.0337787\ttotal: 2.34s\tremaining: 538ms\n",
      "813:\tlearn: 1459.8789377\ttotal: 2.34s\tremaining: 535ms\n",
      "814:\tlearn: 1459.1915043\ttotal: 2.35s\tremaining: 533ms\n",
      "815:\tlearn: 1458.8099306\ttotal: 2.35s\tremaining: 530ms\n",
      "816:\tlearn: 1458.5054686\ttotal: 2.35s\tremaining: 527ms\n",
      "817:\tlearn: 1457.7123705\ttotal: 2.35s\tremaining: 524ms\n",
      "818:\tlearn: 1457.4427791\ttotal: 2.36s\tremaining: 522ms\n",
      "819:\tlearn: 1457.1754376\ttotal: 2.36s\tremaining: 519ms\n",
      "820:\tlearn: 1456.6153604\ttotal: 2.37s\tremaining: 516ms\n",
      "821:\tlearn: 1456.0045340\ttotal: 2.37s\tremaining: 513ms\n",
      "822:\tlearn: 1455.5906873\ttotal: 2.37s\tremaining: 510ms\n",
      "823:\tlearn: 1455.2598262\ttotal: 2.38s\tremaining: 507ms\n",
      "824:\tlearn: 1455.0607192\ttotal: 2.38s\tremaining: 505ms\n",
      "825:\tlearn: 1454.8608486\ttotal: 2.38s\tremaining: 502ms\n",
      "826:\tlearn: 1454.3524377\ttotal: 2.38s\tremaining: 499ms\n",
      "827:\tlearn: 1454.0258270\ttotal: 2.39s\tremaining: 496ms\n",
      "828:\tlearn: 1453.4761220\ttotal: 2.39s\tremaining: 493ms\n",
      "829:\tlearn: 1452.9539458\ttotal: 2.39s\tremaining: 491ms\n",
      "830:\tlearn: 1452.1798742\ttotal: 2.4s\tremaining: 488ms\n",
      "831:\tlearn: 1451.9809841\ttotal: 2.4s\tremaining: 485ms\n",
      "832:\tlearn: 1451.7166443\ttotal: 2.4s\tremaining: 481ms\n",
      "833:\tlearn: 1451.4409416\ttotal: 2.4s\tremaining: 478ms\n",
      "834:\tlearn: 1451.2529799\ttotal: 2.41s\tremaining: 475ms\n",
      "835:\tlearn: 1450.8860258\ttotal: 2.41s\tremaining: 473ms\n",
      "836:\tlearn: 1450.5571197\ttotal: 2.41s\tremaining: 470ms\n",
      "837:\tlearn: 1450.3423282\ttotal: 2.41s\tremaining: 467ms\n",
      "838:\tlearn: 1450.0503638\ttotal: 2.42s\tremaining: 464ms\n",
      "839:\tlearn: 1449.8308663\ttotal: 2.42s\tremaining: 461ms\n",
      "840:\tlearn: 1449.5114541\ttotal: 2.42s\tremaining: 458ms\n",
      "841:\tlearn: 1448.4799044\ttotal: 2.42s\tremaining: 455ms\n",
      "842:\tlearn: 1447.8323964\ttotal: 2.43s\tremaining: 452ms\n",
      "843:\tlearn: 1447.4352683\ttotal: 2.43s\tremaining: 449ms\n",
      "844:\tlearn: 1447.1373153\ttotal: 2.43s\tremaining: 446ms\n",
      "845:\tlearn: 1446.8234956\ttotal: 2.43s\tremaining: 443ms\n",
      "846:\tlearn: 1446.5428211\ttotal: 2.44s\tremaining: 440ms\n",
      "847:\tlearn: 1445.9598402\ttotal: 2.44s\tremaining: 437ms\n",
      "848:\tlearn: 1445.6178651\ttotal: 2.44s\tremaining: 434ms\n",
      "849:\tlearn: 1445.2641975\ttotal: 2.44s\tremaining: 431ms\n",
      "850:\tlearn: 1444.6956956\ttotal: 2.44s\tremaining: 428ms\n",
      "851:\tlearn: 1444.5016674\ttotal: 2.45s\tremaining: 425ms\n",
      "852:\tlearn: 1444.1248159\ttotal: 2.45s\tremaining: 422ms\n",
      "853:\tlearn: 1443.8141209\ttotal: 2.45s\tremaining: 419ms\n",
      "854:\tlearn: 1443.6983327\ttotal: 2.45s\tremaining: 416ms\n",
      "855:\tlearn: 1443.3621265\ttotal: 2.46s\tremaining: 413ms\n",
      "856:\tlearn: 1442.7954078\ttotal: 2.46s\tremaining: 410ms\n",
      "857:\tlearn: 1442.3114896\ttotal: 2.46s\tremaining: 407ms\n",
      "858:\tlearn: 1442.3099772\ttotal: 2.46s\tremaining: 404ms\n",
      "859:\tlearn: 1442.3066283\ttotal: 2.46s\tremaining: 401ms\n",
      "860:\tlearn: 1441.9590411\ttotal: 2.47s\tremaining: 398ms\n",
      "861:\tlearn: 1441.1430306\ttotal: 2.47s\tremaining: 395ms\n",
      "862:\tlearn: 1440.6717637\ttotal: 2.47s\tremaining: 392ms\n",
      "863:\tlearn: 1440.1472843\ttotal: 2.47s\tremaining: 389ms\n",
      "864:\tlearn: 1439.6496985\ttotal: 2.48s\tremaining: 387ms\n",
      "865:\tlearn: 1439.3046583\ttotal: 2.48s\tremaining: 384ms\n",
      "866:\tlearn: 1438.8862338\ttotal: 2.48s\tremaining: 381ms\n",
      "867:\tlearn: 1438.7189074\ttotal: 2.48s\tremaining: 378ms\n",
      "868:\tlearn: 1438.2025080\ttotal: 2.49s\tremaining: 375ms\n",
      "869:\tlearn: 1437.8639825\ttotal: 2.49s\tremaining: 372ms\n",
      "870:\tlearn: 1437.4760078\ttotal: 2.49s\tremaining: 369ms\n",
      "871:\tlearn: 1437.2708325\ttotal: 2.5s\tremaining: 366ms\n",
      "872:\tlearn: 1436.9716169\ttotal: 2.5s\tremaining: 363ms\n",
      "873:\tlearn: 1436.7677485\ttotal: 2.5s\tremaining: 360ms\n",
      "874:\tlearn: 1436.4823876\ttotal: 2.5s\tremaining: 357ms\n",
      "875:\tlearn: 1435.8195207\ttotal: 2.5s\tremaining: 355ms\n",
      "876:\tlearn: 1435.4394200\ttotal: 2.51s\tremaining: 352ms\n",
      "877:\tlearn: 1435.1816904\ttotal: 2.51s\tremaining: 349ms\n",
      "878:\tlearn: 1434.5364622\ttotal: 2.51s\tremaining: 346ms\n",
      "879:\tlearn: 1434.3513697\ttotal: 2.51s\tremaining: 343ms\n",
      "880:\tlearn: 1433.9198112\ttotal: 2.52s\tremaining: 340ms\n",
      "881:\tlearn: 1433.4508836\ttotal: 2.52s\tremaining: 337ms\n",
      "882:\tlearn: 1432.8289653\ttotal: 2.52s\tremaining: 334ms\n",
      "883:\tlearn: 1432.4828593\ttotal: 2.52s\tremaining: 331ms\n",
      "884:\tlearn: 1432.0527760\ttotal: 2.53s\tremaining: 328ms\n",
      "885:\tlearn: 1431.7968055\ttotal: 2.53s\tremaining: 325ms\n",
      "886:\tlearn: 1431.7265154\ttotal: 2.53s\tremaining: 322ms\n",
      "887:\tlearn: 1430.9800255\ttotal: 2.53s\tremaining: 320ms\n",
      "888:\tlearn: 1430.8064620\ttotal: 2.54s\tremaining: 317ms\n",
      "889:\tlearn: 1430.6395190\ttotal: 2.54s\tremaining: 314ms\n",
      "890:\tlearn: 1430.1966960\ttotal: 2.54s\tremaining: 311ms\n",
      "891:\tlearn: 1429.9110598\ttotal: 2.54s\tremaining: 308ms\n",
      "892:\tlearn: 1428.9865290\ttotal: 2.55s\tremaining: 305ms\n",
      "893:\tlearn: 1428.8004353\ttotal: 2.55s\tremaining: 303ms\n",
      "894:\tlearn: 1428.4633276\ttotal: 2.55s\tremaining: 300ms\n",
      "895:\tlearn: 1428.2216812\ttotal: 2.56s\tremaining: 297ms\n",
      "896:\tlearn: 1427.9090387\ttotal: 2.56s\tremaining: 294ms\n",
      "897:\tlearn: 1427.3871715\ttotal: 2.56s\tremaining: 291ms\n",
      "898:\tlearn: 1426.9430676\ttotal: 2.57s\tremaining: 288ms\n",
      "899:\tlearn: 1426.9398462\ttotal: 2.57s\tremaining: 286ms\n",
      "900:\tlearn: 1426.7361369\ttotal: 2.57s\tremaining: 283ms\n",
      "901:\tlearn: 1425.9853065\ttotal: 2.58s\tremaining: 280ms\n",
      "902:\tlearn: 1425.5456596\ttotal: 2.58s\tremaining: 277ms\n",
      "903:\tlearn: 1425.1977710\ttotal: 2.58s\tremaining: 274ms\n",
      "904:\tlearn: 1424.6470211\ttotal: 2.58s\tremaining: 271ms\n",
      "905:\tlearn: 1424.3297287\ttotal: 2.59s\tremaining: 268ms\n",
      "906:\tlearn: 1424.0453065\ttotal: 2.59s\tremaining: 265ms\n",
      "907:\tlearn: 1423.3540850\ttotal: 2.59s\tremaining: 263ms\n",
      "908:\tlearn: 1422.8933481\ttotal: 2.59s\tremaining: 260ms\n",
      "909:\tlearn: 1422.2751615\ttotal: 2.6s\tremaining: 257ms\n",
      "910:\tlearn: 1422.1182023\ttotal: 2.6s\tremaining: 254ms\n",
      "911:\tlearn: 1421.6753414\ttotal: 2.6s\tremaining: 251ms\n",
      "912:\tlearn: 1421.4585554\ttotal: 2.6s\tremaining: 248ms\n",
      "913:\tlearn: 1421.0588790\ttotal: 2.6s\tremaining: 245ms\n",
      "914:\tlearn: 1420.8461543\ttotal: 2.61s\tremaining: 242ms\n",
      "915:\tlearn: 1420.4449952\ttotal: 2.61s\tremaining: 239ms\n",
      "916:\tlearn: 1420.2066806\ttotal: 2.61s\tremaining: 237ms\n",
      "917:\tlearn: 1419.9142251\ttotal: 2.62s\tremaining: 234ms\n",
      "918:\tlearn: 1419.3397816\ttotal: 2.62s\tremaining: 231ms\n",
      "919:\tlearn: 1418.9172946\ttotal: 2.62s\tremaining: 228ms\n",
      "920:\tlearn: 1418.6785459\ttotal: 2.62s\tremaining: 225ms\n",
      "921:\tlearn: 1417.9797538\ttotal: 2.62s\tremaining: 222ms\n",
      "922:\tlearn: 1417.6119758\ttotal: 2.63s\tremaining: 219ms\n",
      "923:\tlearn: 1417.1977742\ttotal: 2.63s\tremaining: 216ms\n",
      "924:\tlearn: 1416.6627630\ttotal: 2.63s\tremaining: 213ms\n",
      "925:\tlearn: 1416.3614654\ttotal: 2.63s\tremaining: 210ms\n",
      "926:\tlearn: 1415.9815926\ttotal: 2.63s\tremaining: 208ms\n",
      "927:\tlearn: 1415.7239953\ttotal: 2.64s\tremaining: 205ms\n",
      "928:\tlearn: 1415.2474769\ttotal: 2.64s\tremaining: 202ms\n",
      "929:\tlearn: 1414.8201956\ttotal: 2.64s\tremaining: 199ms\n",
      "930:\tlearn: 1414.2992746\ttotal: 2.65s\tremaining: 196ms\n",
      "931:\tlearn: 1414.0379985\ttotal: 2.65s\tremaining: 193ms\n",
      "932:\tlearn: 1413.4577817\ttotal: 2.65s\tremaining: 190ms\n",
      "933:\tlearn: 1413.2698702\ttotal: 2.65s\tremaining: 187ms\n",
      "934:\tlearn: 1413.0460866\ttotal: 2.65s\tremaining: 185ms\n",
      "935:\tlearn: 1412.7700477\ttotal: 2.66s\tremaining: 182ms\n",
      "936:\tlearn: 1412.3974058\ttotal: 2.66s\tremaining: 179ms\n",
      "937:\tlearn: 1412.1281384\ttotal: 2.67s\tremaining: 176ms\n",
      "938:\tlearn: 1411.7861165\ttotal: 2.67s\tremaining: 173ms\n",
      "939:\tlearn: 1411.4323869\ttotal: 2.67s\tremaining: 170ms\n",
      "940:\tlearn: 1410.9963427\ttotal: 2.67s\tremaining: 168ms\n",
      "941:\tlearn: 1410.7380877\ttotal: 2.68s\tremaining: 165ms\n",
      "942:\tlearn: 1410.4350512\ttotal: 2.68s\tremaining: 162ms\n",
      "943:\tlearn: 1409.8834774\ttotal: 2.68s\tremaining: 159ms\n",
      "944:\tlearn: 1409.4113786\ttotal: 2.68s\tremaining: 156ms\n",
      "945:\tlearn: 1409.2823569\ttotal: 2.68s\tremaining: 153ms\n",
      "946:\tlearn: 1408.8056941\ttotal: 2.69s\tremaining: 150ms\n",
      "947:\tlearn: 1408.2176882\ttotal: 2.69s\tremaining: 148ms\n",
      "948:\tlearn: 1407.8742563\ttotal: 2.69s\tremaining: 145ms\n",
      "949:\tlearn: 1407.6363873\ttotal: 2.69s\tremaining: 142ms\n",
      "950:\tlearn: 1406.9359915\ttotal: 2.7s\tremaining: 139ms\n",
      "951:\tlearn: 1406.6881725\ttotal: 2.7s\tremaining: 136ms\n",
      "952:\tlearn: 1405.8956042\ttotal: 2.7s\tremaining: 133ms\n",
      "953:\tlearn: 1405.5862657\ttotal: 2.7s\tremaining: 130ms\n",
      "954:\tlearn: 1405.4169015\ttotal: 2.71s\tremaining: 128ms\n",
      "955:\tlearn: 1405.0110217\ttotal: 2.71s\tremaining: 125ms\n",
      "956:\tlearn: 1404.9638299\ttotal: 2.71s\tremaining: 122ms\n",
      "957:\tlearn: 1404.6564161\ttotal: 2.71s\tremaining: 119ms\n",
      "958:\tlearn: 1404.3346196\ttotal: 2.71s\tremaining: 116ms\n",
      "959:\tlearn: 1403.9590793\ttotal: 2.72s\tremaining: 113ms\n",
      "960:\tlearn: 1403.7381950\ttotal: 2.72s\tremaining: 110ms\n",
      "961:\tlearn: 1403.3632627\ttotal: 2.72s\tremaining: 108ms\n",
      "962:\tlearn: 1403.0063810\ttotal: 2.73s\tremaining: 105ms\n",
      "963:\tlearn: 1402.2815575\ttotal: 2.73s\tremaining: 102ms\n",
      "964:\tlearn: 1401.9635432\ttotal: 2.73s\tremaining: 99ms\n",
      "965:\tlearn: 1401.7992292\ttotal: 2.73s\tremaining: 96.2ms\n",
      "966:\tlearn: 1401.4271670\ttotal: 2.74s\tremaining: 93.4ms\n",
      "967:\tlearn: 1400.7716440\ttotal: 2.74s\tremaining: 90.6ms\n",
      "968:\tlearn: 1400.4471789\ttotal: 2.74s\tremaining: 87.7ms\n",
      "969:\tlearn: 1400.1738241\ttotal: 2.75s\tremaining: 84.9ms\n",
      "970:\tlearn: 1399.9237976\ttotal: 2.75s\tremaining: 82.1ms\n",
      "971:\tlearn: 1399.2526735\ttotal: 2.75s\tremaining: 79.3ms\n",
      "972:\tlearn: 1399.0695764\ttotal: 2.76s\tremaining: 76.5ms\n",
      "973:\tlearn: 1398.7256551\ttotal: 2.76s\tremaining: 73.7ms\n",
      "974:\tlearn: 1398.7225571\ttotal: 2.76s\tremaining: 70.8ms\n",
      "975:\tlearn: 1398.3584639\ttotal: 2.76s\tremaining: 68ms\n",
      "976:\tlearn: 1398.1240052\ttotal: 2.77s\tremaining: 65.2ms\n",
      "977:\tlearn: 1397.9086146\ttotal: 2.77s\tremaining: 62.3ms\n",
      "978:\tlearn: 1397.6159775\ttotal: 2.77s\tremaining: 59.5ms\n",
      "979:\tlearn: 1396.9525324\ttotal: 2.78s\tremaining: 56.7ms\n",
      "980:\tlearn: 1396.6188502\ttotal: 2.78s\tremaining: 53.8ms\n",
      "981:\tlearn: 1396.4631452\ttotal: 2.78s\tremaining: 51ms\n",
      "982:\tlearn: 1395.9956833\ttotal: 2.79s\tremaining: 48.2ms\n",
      "983:\tlearn: 1395.9929315\ttotal: 2.79s\tremaining: 45.3ms\n",
      "984:\tlearn: 1395.4288244\ttotal: 2.79s\tremaining: 42.5ms\n",
      "985:\tlearn: 1394.8048331\ttotal: 2.79s\tremaining: 39.6ms\n",
      "986:\tlearn: 1394.4021559\ttotal: 2.79s\tremaining: 36.8ms\n",
      "987:\tlearn: 1394.0201922\ttotal: 2.79s\tremaining: 34ms\n",
      "988:\tlearn: 1393.7406215\ttotal: 2.8s\tremaining: 31.1ms\n",
      "989:\tlearn: 1393.5339977\ttotal: 2.8s\tremaining: 28.3ms\n",
      "990:\tlearn: 1393.2270976\ttotal: 2.8s\tremaining: 25.5ms\n",
      "991:\tlearn: 1392.7045970\ttotal: 2.81s\tremaining: 22.6ms\n",
      "992:\tlearn: 1392.4402667\ttotal: 2.81s\tremaining: 19.8ms\n",
      "993:\tlearn: 1392.1717037\ttotal: 2.81s\tremaining: 17ms\n",
      "994:\tlearn: 1391.9102029\ttotal: 2.81s\tremaining: 14.1ms\n",
      "995:\tlearn: 1391.4675811\ttotal: 2.82s\tremaining: 11.3ms\n",
      "996:\tlearn: 1391.2443204\ttotal: 2.82s\tremaining: 8.48ms\n",
      "997:\tlearn: 1390.6218343\ttotal: 2.82s\tremaining: 5.65ms\n",
      "998:\tlearn: 1390.4945212\ttotal: 2.82s\tremaining: 2.83ms\n",
      "999:\tlearn: 1390.3774336\ttotal: 2.82s\tremaining: 0us\n"
     ]
    },
    {
     "data": {
      "text/plain": [
       "<catboost.core.CatBoostRegressor at 0x2a3d06bfe20>"
      ]
     },
     "execution_count": 47,
     "metadata": {},
     "output_type": "execute_result"
    }
   ],
   "source": [
    "cat_model = CatBoostRegressor()\n",
    "cat_model.fit(X_train,y_train)"
   ]
  },
  {
   "cell_type": "code",
   "execution_count": 48,
   "metadata": {},
   "outputs": [
    {
     "data": {
      "text/plain": [
       "0.828454947920456"
      ]
     },
     "execution_count": 48,
     "metadata": {},
     "output_type": "execute_result"
    }
   ],
   "source": [
    "y_pred = cat_model.predict(x_test)\n",
    "from sklearn.metrics import r2_score\n",
    "\n",
    "r2_score(y_test,y_pred)"
   ]
  },
  {
   "cell_type": "code",
   "execution_count": 50,
   "metadata": {},
   "outputs": [],
   "source": [
    "import pickle\n",
    "\n",
    "filename = 'model.pkl'\n",
    "\n",
    "with open(filename, 'wb') as f:\n",
    "    pickle.dump(cat_model, f)\n"
   ]
  }
 ],
 "metadata": {
  "kernelspec": {
   "display_name": "Python 3",
   "language": "python",
   "name": "python3"
  },
  "language_info": {
   "codemirror_mode": {
    "name": "ipython",
    "version": 3
   },
   "file_extension": ".py",
   "mimetype": "text/x-python",
   "name": "python",
   "nbconvert_exporter": "python",
   "pygments_lexer": "ipython3",
   "version": "3.10.9"
  },
  "orig_nbformat": 4
 },
 "nbformat": 4,
 "nbformat_minor": 2
}
